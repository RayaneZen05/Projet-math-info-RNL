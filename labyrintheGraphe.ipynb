{
 "cells": [
  {
   "cell_type": "code",
   "execution_count": 1,
   "id": "95d4f29e-1f88-452c-9120-4120cfc58d98",
   "metadata": {
    "tags": []
   },
   "outputs": [],
   "source": [
    "import random"
   ]
  },
  {
   "cell_type": "code",
   "execution_count": 7,
   "id": "c00f7196-f6c4-484c-9163-4b9410c4ce7f",
   "metadata": {
    "tags": []
   },
   "outputs": [],
   "source": [
    "# idée : utiliser matrice d'adjacence et vérifier connexité\n",
    "# vérifier la minimalité d'un labyrinthe en calculant l'absence de cycles\n",
    "# Modified version dfs from starting point, not insert neighbor, we take the set of neighbors and randomly insert into stack"
   ]
  },
  {
   "cell_type": "markdown",
   "id": "58f968a0-cc18-4479-a292-a36e9f3abb97",
   "metadata": {},
   "source": [
    "# TO-DO"
   ]
  },
  {
   "cell_type": "markdown",
   "id": "241dc238-0a51-4328-a3d6-6fda786266cb",
   "metadata": {
    "tags": []
   },
   "source": [
    "<fieldset>\n",
    "  <legend>A faire pour le 08/04/2024</legend>\n",
    "    \n",
    "  <div>\n",
    "    <input type=\"checkbox\" id=\"cpp\" name=\"cpp\" <!--checked<! />\n",
    "      <label for=\"a\"><b>Implémentation en C++ pour plus d'efficacité</b></label>\n",
    "  </div>\n",
    "  <div>\n",
    "    <input type=\"checkbox\" id=\"a\" name=\"a\" <!--checked<! />\n",
    "    <label for=\"a\">Implémenter un générateur de labyrinthes avec 2nm - n - m + 1 murs</label>\n",
    "  </div>\n",
    "\n",
    "  <div>\n",
    "    <input type=\"checkbox\" id=\"b\" name=\"b\" />\n",
    "    <label for=\"b\">Faire de la génération en masse de labyrinthes pour pouvoir faire du calcul statistique</label>\n",
    "  </div>\n",
    "    \n",
    "  <div>\n",
    "    <input type=\"checkbox\" id=\"c\" name=\"c\" />\n",
    "    <label for=\"c\">Tenter d'optimiser la génération de pseudolabyrinthes connexes</label>\n",
    "  </div>\n",
    "</fieldset>"
   ]
  },
  {
   "cell_type": "markdown",
   "id": "6ac0c103-df51-49e1-a5d5-d22860430eb9",
   "metadata": {},
   "source": [
    "# différentes manières de représenter un graphe : "
   ]
  },
  {
   "cell_type": "markdown",
   "id": "d1be4619-51db-4140-aa17-1f90937fe20b",
   "metadata": {},
   "source": [
    "## Matrice d'adjacence"
   ]
  },
  {
   "cell_type": "markdown",
   "id": "7e5d035b-d282-4ef6-b3a8-7b920736ddf3",
   "metadata": {},
   "source": [
    "<div style=\"text-align: center;\">\n",
    "  <img src=\"media/f3pxlcah.png\" alt=\"matrice d'adjacence\" style=\"max-width: 100%;\">\n",
    "</div>"
   ]
  },
  {
   "cell_type": "markdown",
   "id": "499011ea-13ed-4da3-bbec-249b7508f63c",
   "metadata": {},
   "source": [
    "# Liste d'adjacence"
   ]
  },
  {
   "cell_type": "markdown",
   "id": "9f3288ef-47ee-45fd-af19-6015a6d62bf0",
   "metadata": {},
   "source": [
    "dictionnaire {sommet : sommets liés}"
   ]
  },
  {
   "cell_type": "code",
   "execution_count": 102,
   "id": "01e88732-e27c-4a46-a4a3-6d9d37fe4ce3",
   "metadata": {
    "tags": []
   },
   "outputs": [],
   "source": [
    "import random\n",
    "\n",
    "class GraphLabyrinth:\n",
    "    def __init__(self, n, m):\n",
    "        self.n = n\n",
    "        self.m = m\n",
    "        self.graph = {} # liste d'adjacence\n",
    "        self.grille()\n",
    "\n",
    "    def grille(self):\n",
    "        for i in range(self.n):\n",
    "            for j in range(self.m):\n",
    "                node = (i, j)\n",
    "                self.graph[node] = []\n",
    "                if i > 0:\n",
    "                    self.graph[node].append((i-1, j)) \n",
    "                if i < self.n - 1:\n",
    "                    self.graph[node].append((i+1, j))\n",
    "                if j > 0:\n",
    "                    self.graph[node].append((i, j-1))\n",
    "                if j < self.m - 1:\n",
    "                    self.graph[node].append((i, j+1))\n",
    "    def afficher_graphe(self):\n",
    "        \"\"\" FONCTION A OPTIMISER \"\"\"\n",
    "        # un point pour chaque noeud\n",
    "        points = [point2d((j, i), size=10, color='blue') for i in range(self.n) for j in range(self.m)]\n",
    "\n",
    "        # une ligne pour chaque mur\n",
    "        lines = []\n",
    "        for node, neighbors in self.graph.items():\n",
    "            i, j = node\n",
    "            for neighbor in neighbors:\n",
    "                ni, nj = neighbor\n",
    "                lines.append(line2d([(j, i), (nj, ni)], color='green', thickness=2))\n",
    "        return sum(points) + sum(lines)\n",
    "    # Vérifier si l'implémentation récursive du dfs est plus rapide\n",
    "    def est_connexe(self):\n",
    "        marked = {node: False for node in self.graph} # génération du dictionnaire de marquage des visites\n",
    "        def DFS(node):\n",
    "            marked[node] = True\n",
    "            for neighbor in self.graph[node]:\n",
    "                if marked[neighbor] == False:\n",
    "                    DFS(neighbor)\n",
    "        DFS((0,0))\n",
    "        return all(marked.values())\n",
    "    def deconnecte(self, node1, node2):\n",
    "        \"\"\"\n",
    "        Cette fonction vérifie que le sommet de départ et le sommet d'arrivée sont bien liés, pour ensuite les déconnecter\n",
    "        args :\n",
    "            depart, arrivéee : sommets que l'on veut débrancher\n",
    "        returns : \n",
    "            booléen vrai si action réussie, sinon faux\n",
    "        \"\"\"\n",
    "        a, b = False, False\n",
    "        if node2 in self.graph[node1]:\n",
    "            self.graph[node1].remove(node2)\n",
    "            a = True\n",
    "        if node1 in self.graph[node2]:\n",
    "            self.graph[node2].remove(node1)\n",
    "            b = True\n",
    "        return (a and b)\n",
    "    def connecte(self, node1, node2):\n",
    "        \"\"\"\n",
    "        crée une liaison entre deux sommets, suppose que nos deux sommets sont adjacents (risqué)\n",
    "        args :\n",
    "            depart, arrivéee : sommets que l'on veut débrancher\n",
    "        returns : \n",
    "            booléen vrai si action réussie, sinon faux\n",
    "        \"\"\"\n",
    "        a, b = False, False\n",
    "        if node2 not in self.graph[node1]:\n",
    "            self.graph[node1].append(node2)\n",
    "        if node1 not in self.graph[node2]:\n",
    "            self.graph[node2].append(node1)\n",
    "        return True\n",
    "    def generer_connexe(self):\n",
    "        # on réinitialise le labyrinthe\n",
    "        self.grille()\n",
    "        def DFS(node):\n",
    "            marked[node] = True\n",
    "            neighbors = list(self.graph[node])  # Copie\n",
    "            random.shuffle(neighbors)\n",
    "            for neighbor in neighbors:\n",
    "                if not marked[neighbor]:\n",
    "                    # Temporarily disconnect the nodes\n",
    "                    self.deconnecte(node, neighbor)\n",
    "                    # On applique un DFS à chaque connexion\n",
    "                    if self.est_connexe():\n",
    "                        DFS(neighbor)\n",
    "                    else:\n",
    "                        self.connecte(node, neighbor)\n",
    "            return True\n",
    "\n",
    "        marked = {node: False for node in self.graph}\n",
    "        DFS(random.choice([(i, j) for i in range(self.n) for j in range(self.m)])) # selection d'un point aleatoire\n",
    "    \"\"\" Marche pas, on peut réfléchir au fait que chaque noeud ne doit avoir qu'un seul voisin \"\"\"    \n",
    "    def generer_connexe_etbnm(self):\n",
    "        def DFS(node):\n",
    "            marked[node] = True\n",
    "            neighbors = list(self.graph[node])  # Copie\n",
    "            random.shuffle(neighbors)\n",
    "            for neighbor in neighbors:\n",
    "                if not marked[neighbor]:\n",
    "                    # Temporarily disconnect the nodes\n",
    "                    self.deconnecte(node, neighbor)\n",
    "                    nm += 1\n",
    "                    # On applique un DFS à chaque connexion\n",
    "                    if self.est_connexe():\n",
    "                        DFS(neighbor)\n",
    "                    else:\n",
    "                        # Si le graphe n'est pas connexe, reconnectez les noeuds\n",
    "                        self.connecte(node, neighbor)\n",
    "                        nm -= 1\n",
    "\n",
    "            correct_nm = 2 * self.n * self.m - self.n - self.m + 1\n",
    "            while True:\n",
    "                self.grille()\n",
    "                marked = {node: False for node in self.graph}\n",
    "                nm = 0\n",
    "                start_cell = random.choice(list(self.graph.keys()))  # Choisir une cellule aléatoire comme point de départ\n",
    "                DFS(start_cell, None)  # Commencer DFS à partir de la cellule aléatoire sans parent\n",
    "                if nm == correct_nm:\n",
    "                    break  # Sortie de la boucle si le nombre de murs est correct\n",
    "                else:\n",
    "                    self.grille()  # Réinitialiser le labyrinthe et réessayer\n",
    "\n",
    "\n",
    "    def generer_aleatoire(self):\n",
    "        def DFS(node, parent):\n",
    "            marked[node] = True\n",
    "            neighbors = list(self.graph[node])  # Copie\n",
    "            random.shuffle(neighbors)\n",
    "            for neighbor in neighbors:\n",
    "                if not marked[neighbor]:\n",
    "                    self.deconnecte(node, neighbor)\n",
    "                    if not self.est_connexe():\n",
    "                        # Si le graphe n'est pas connexe, on reconnecte les noeuds\n",
    "                        self.connecte(node, neighbor)\n",
    "                    else:\n",
    "                        DFS(neighbor, node)\n",
    "\n",
    "        marked = {node: False for node in self.graph}\n",
    "        start_cell = random.choice(list(self.graph.keys()))  # Choisir une cellule aléatoire comme point de départ\n",
    "        DFS(start_cell, None)  # Commencer DFS à partir de la cellule aléatoire sans parent\n",
    "    def generer_aleatoire_bis(self):\n",
    "        def DFS(node, parent):\n",
    "            marked[node] = True\n",
    "            neighbors = list(self.graph[node])  # Copie\n",
    "            random.shuffle(neighbors)\n",
    "            for neighbor in neighbors:\n",
    "                if neighbor != parent and not marked[neighbor]:\n",
    "                    self.deconnecte(node, neighbor)\n",
    "                    DFS(neighbor, node)\n",
    "\n",
    "        marked = {node: False for node in self.graph}\n",
    "        start_cell = random.choice(list(self.graph.keys()))  # Choisir une cellule aléatoire comme point de départ\n",
    "        DFS(start_cell, None)  # Commencer DFS à partir de la cellule aléatoire sans parent"
   ]
  },
  {
   "cell_type": "code",
   "execution_count": 103,
   "id": "c3d1482c-e92e-4668-b64c-5e1c16568f59",
   "metadata": {
    "tags": []
   },
   "outputs": [],
   "source": [
    "labyrinthe = GraphLabyrinth(10, 9)"
   ]
  },
  {
   "cell_type": "code",
   "execution_count": 104,
   "id": "a3beeeed-11fc-4d34-a029-a8c463dcd28c",
   "metadata": {
    "tags": []
   },
   "outputs": [],
   "source": [
    "labyrinthe.generer_connexe_etbnm()"
   ]
  },
  {
   "cell_type": "code",
   "execution_count": 105,
   "id": "f34c2422-21cc-4988-abde-762ee15ec45e",
   "metadata": {
    "tags": []
   },
   "outputs": [
    {
     "data": {
      "image/png": "[encoded data removed]",
      "text/plain": [
       "Graphics object consisting of 412 graphics primitives"
      ]
     },
     "execution_count": 105,
     "metadata": {},
     "output_type": "execute_result"
    }
   ],
   "source": [
    "labyrinthe.afficher_graphe()"
   ]
  },
  {
   "cell_type": "markdown",
   "id": "fd152ac8-753e-43cf-9ca7-d39059d90710",
   "metadata": {},
   "source": [
    "### Mesure des performances"
   ]
  },
  {
   "cell_type": "markdown",
   "id": "e430dd81-8bf8-4965-9af0-79bfa1e4ab41",
   "metadata": {},
   "source": [
    "au fur et a mesure des implémentations, nous allons vérifier si les performances sont accrues"
   ]
  },
  {
   "cell_type": "code",
   "execution_count": 80,
   "id": "d9531fc9-8c04-458c-841a-4587f06483eb",
   "metadata": {
    "tags": []
   },
   "outputs": [
    {
     "name": "stdout",
     "output_type": "stream",
     "text": [
      "11.4 ms ± 126 µs per loop (mean ± std. dev. of 7 runs, 100 loops each)\n"
     ]
    }
   ],
   "source": [
    "%timeit labyrinthe.generer_connexe()"
   ]
  }
 ],
 "metadata": {
  "kernelspec": {
   "display_name": "SageMath 10.2",
   "language": "sage",
   "name": "sagemath"
  },
  "language_info": {
   "codemirror_mode": {
    "name": "ipython",
    "version": 3
   },
   "file_extension": ".py",
   "mimetype": "text/x-python",
   "name": "python",
   "nbconvert_exporter": "python",
   "pygments_lexer": "ipython3",
   "version": "3.11.8"
  }
 },
 "nbformat": 4,
 "nbformat_minor": 5
}
