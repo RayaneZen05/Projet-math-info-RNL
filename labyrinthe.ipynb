{
 "cells": [
  {
   "cell_type": "code",
   "execution_count": 1,
   "id": "083cf2a1-b43a-434b-b92a-16f28b104ad4",
   "metadata": {
    "tags": []
   },
   "outputs": [],
   "source": [
    "import random\n",
    "import numpy as np"
   ]
  },
  {
   "cell_type": "markdown",
   "id": "ec1c5d27-5e2f-469b-9a9d-9de245f341ff",
   "metadata": {},
   "source": [
    "# Structure de données, affichage"
   ]
  },
  {
   "cell_type": "code",
   "execution_count": 2,
   "id": "43fc1fa9-7d3c-42a9-9926-1839587eb20c",
   "metadata": {
    "tags": []
   },
   "outputs": [],
   "source": [
    "# Représentation d'un pseudo-labyrinthe avec deux matrices de murs horizontaux et verticaux\n",
    "class pseudoLabyrinthe:\n",
    "    def __init__(self, n, m): # constructeur de la classe pseudolabyrinthe\n",
    "        self.n = n\n",
    "        self.m = m\n",
    "        # Matrice de murs (True = mur, False = passage)\n",
    "        self.murs_horizontaux = [[False for i in range(m)] for j in range(n-1)]\n",
    "        self.murs_verticaux = [[False for i in range(n)] for j in range(m-1)]\n",
    "\n",
    "    # Génère un pseudo-labyrinthe aléatoire\n",
    "    def generer_aleatoire(self):\n",
    "        for i in range(self.n - 1):\n",
    "            for j in range(self.m):\n",
    "                self.murs_horizontaux[i][j] = random.choice([True, False])\n",
    "        for i in range(self.m - 1):\n",
    "            for j in range(self.n):\n",
    "                self.murs_verticaux[i][j] = random.choice([True, False])\n",
    "    def enceinte(self):\n",
    "        \"\"\"\n",
    "        affiche une cellule de taille M*N, avec la grille\n",
    "        \"\"\"\n",
    "        k = line2d([(0,0), (self.m, 0), (self.m, self.n), (0, self.n), (0,0)], color=\"red\", thickness=2, gridlines=True)\n",
    "        return k\n",
    "    def afficher(self):\n",
    "        graphHorizontal = line2d([(0, 0), (0, 0)])\n",
    "        graphVertical = line2d([(0, 0), (0, 0)])\n",
    "        for i in range(len(self.murs_horizontaux)):\n",
    "            for j in range(len(self.murs_horizontaux[i])):\n",
    "                if (self.murs_horizontaux[i][j]):\n",
    "                    graphHorizontal += line2d([(j, i+1), (j+1, i+1)], color=\"red\", thickness=2) # j'ai échangé j et i\n",
    "        for i in range(len(self.murs_verticaux)):\n",
    "            for j in range(len(self.murs_verticaux[i])):\n",
    "                if (self.murs_verticaux[i][j]):\n",
    "                    graphVertical += line2d([(i+1, j), (i+1, j+1)], color=\"red\", thickness=2)\n",
    "        return graphHorizontal + graphVertical + self.enceinte()\n",
    "    def nbmurscorr(self):\n",
    "        l = np.random.permutation(np.array([0 for i in range(self.n*self.m-1)] \n",
    "                                           + [1 for i in range((2*self.n*self.m - self.n - self.m )-(self.n*self.m-1))]))\n",
    "        t = np.split(l, (self.n*(self.m-1),))\n",
    "        self.murs_horizontaux = list(np.split(t[1], self.n-1))\n",
    "        self.murs_verticaux = list(np.split(t[0], self.m-1))\n",
    "    def estconnexe(self):\n",
    "        \"\"\"\n",
    "         La complexité de l’algorithme de recherhce pour la fonction estconnexe() est O(n * m), où n est le nombre de lignes et m le nombre de colonnes dans le labyrinthe. \n",
    "         Cela signifie que dans le pire des cas, l’algorithme visitera chaque cellule une fois.\n",
    "\n",
    "         On explore chaque nœud (cellule) une fois et chaque arête (passage entre les cellules) une fois.\n",
    "         Dans un labyrinthe, le nombre total de passages possibles est proportionnel au nombre de cellules, \n",
    "        donc l’algorithme doit vérifier chaque cellule et chaque passage adjacent pour s’assurer qu’il a exploré toutes les parties accessibles du labyrinthe.\n",
    "         Même si certaines cellules sont visitées plus d’une fois à cause des retours en arrière, \n",
    "        chaque cellule est traitée une seule fois lorsqu’elle est visitée pour la première fois.\n",
    "        \"\"\"\n",
    "        passage = [[False for i in range(self.m)] for j in range(self.n)]\n",
    "        def recherche(i, j):\n",
    "            \"\"\"\n",
    "            Algorithme de recherche inspiré d'un DFS\n",
    "            \"\"\"\n",
    "            # Condition d'arrêt de notre boucle récursive\n",
    "            if i < 0 or i >= self.n or j < 0 or j >= self.m or passage[i][j]:\n",
    "                return\n",
    "            passage[i][j] = True  # Marquer la cellule comme visitée\n",
    "            # Parcourir les cellules adjacentes si il n'y a pas de mur\n",
    "            if i > 0 and not self.murs_horizontaux[i-1][j]:\n",
    "                recherche(i-1, j)\n",
    "            if i < self.n - 1 and not self.murs_horizontaux[i][j]:\n",
    "                recherche(i+1, j)\n",
    "            if j > 0 and not self.murs_verticaux[j-1][i]:\n",
    "                recherche(i, j-1)\n",
    "            if j < self.m - 1 and not self.murs_verticaux[j][i]:\n",
    "                recherche(i, j+1)\n",
    "\n",
    "        recherche(0, 0)  # Commencer le parcours à partir de la cellule (0, 0)\n",
    "        # Vérifier si toutes les cellules ont été visitées\n",
    "        return all(all(row) for row in passage)"
   ]
  },
  {
   "cell_type": "markdown",
   "id": "5f9f890e-5b17-402e-9e0e-d6853147b4b8",
   "metadata": {},
   "source": [
    "# test d'affichage et de création d'un labyrinthe"
   ]
  },
  {
   "cell_type": "code",
   "execution_count": 18,
   "id": "903c52af-4ed6-48df-9c4a-b31c3aae5c0d",
   "metadata": {
    "tags": []
   },
   "outputs": [
    {
     "name": "stdout",
     "output_type": "stream",
     "text": [
      "True\n"
     ]
    }
   ],
   "source": [
    "print(labyrinthe.estconnexe())"
   ]
  },
  {
   "cell_type": "code",
   "execution_count": 81,
   "id": "64abd6fa-47c1-4349-960d-f737478f6731",
   "metadata": {
    "tags": []
   },
   "outputs": [
    {
     "data": {
      "text/plain": [
       "[[False, True, False], [False, True, True]]"
      ]
     },
     "execution_count": 81,
     "metadata": {},
     "output_type": "execute_result"
    }
   ],
   "source": [
    "labyrinthe.murs_verticaux"
   ]
  },
  {
   "cell_type": "code",
   "execution_count": 76,
   "id": "a6b268ad-6079-4fd8-89bb-341bd9286a7f",
   "metadata": {
    "tags": []
   },
   "outputs": [
    {
     "data": {
      "text/plain": [
       "True"
      ]
     },
     "execution_count": 76,
     "metadata": {},
     "output_type": "execute_result"
    }
   ],
   "source": [
    "labyrinthe.estconnexe()"
   ]
  },
  {
   "cell_type": "code",
   "execution_count": 29,
   "id": "2a574ec2-d9ed-40e2-8e7e-2301c956a003",
   "metadata": {},
   "outputs": [
    {
     "data": {
      "image/png": "[encoded data removed]",
      "text/plain": [
       "Graphics object consisting of 5 graphics primitives"
      ]
     },
     "execution_count": 29,
     "metadata": {},
     "output_type": "execute_result"
    }
   ],
   "source": [
    "a = labyrinthe(3, 2)\n",
    "a.genereraleatoirenaif()\n",
    "a.afficher()"
   ]
  },
  {
   "cell_type": "code",
   "execution_count": null,
   "id": "81d17c34-1438-4d72-971b-bc3426e61cb1",
   "metadata": {},
   "outputs": [],
   "source": []
  }
 ],
 "metadata": {
  "kernelspec": {
   "display_name": "SageMath 10.2",
   "language": "sage",
   "name": "sagemath"
  },
  "language_info": {
   "codemirror_mode": {
    "name": "ipython",
    "version": 3
   },
   "file_extension": ".py",
   "mimetype": "text/x-python",
   "name": "python",
   "nbconvert_exporter": "python",
   "pygments_lexer": "ipython3",
   "version": "3.11.8"
  }
 },
 "nbformat": 4,
 "nbformat_minor": 5
}
