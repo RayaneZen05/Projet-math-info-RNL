{
 "cells": [
  {
   "cell_type": "code",
   "execution_count": 4,
   "id": "083cf2a1-b43a-434b-b92a-16f28b104ad4",
   "metadata": {
    "tags": []
   },
   "outputs": [],
   "source": [
    "import random"
   ]
  },
  {
   "cell_type": "markdown",
   "id": "ec1c5d27-5e2f-469b-9a9d-9de245f341ff",
   "metadata": {},
   "source": [
    "# Structure de données, affichage"
   ]
  },
  {
   "cell_type": "code",
   "execution_count": 7,
   "id": "43fc1fa9-7d3c-42a9-9926-1839587eb20c",
   "metadata": {
    "tags": []
   },
   "outputs": [],
   "source": [
    "# Représentation d'un pseudo-labyrinthe avec deux matrices de murs horizontaux et verticaux\n",
    "class pseudoLabyrinthe:\n",
    "    def __init__(self, n, m): # constructeur de la classe pseudolabyrinthe\n",
    "        self.n = n\n",
    "        self.m = m\n",
    "        # Matrice de murs (True = mur, False = passage)\n",
    "        self.murs_horizontaux = [[False for i in range(m)] for j in range(n-1)]\n",
    "        self.murs_verticaux = [[False for i in range(n)] for j in range(m-1)]\n",
    "\n",
    "    # Génère un pseudo-labyrinthe aléatoire\n",
    "    def generer_aleatoire(self):\n",
    "        for i in range(self.n - 1):\n",
    "            for j in range(self.m):\n",
    "                self.murs_horizontaux[i][j] = random.choice([True, False])\n",
    "        for i in range(self.m - 1):\n",
    "            for j in range(self.n):\n",
    "                self.murs_verticaux[i][j] = random.choice([True, False])\n",
    "    def enceinte(self):\n",
    "        \"\"\"\n",
    "        affiche une cellule de taille M*N, avec la grille\n",
    "        \"\"\"\n",
    "        k = line2d([(0,0), (self.m, 0), (self.m, self.n), (0, self.n), (0,0)], color=\"red\", thickness=2, gridlines=True)\n",
    "        return k\n",
    "    def afficher(self):\n",
    "        graphHorizontal = line2d([(0, 0), (0, 0)])\n",
    "        graphVertical = line2d([(0, 0), (0, 0)])\n",
    "        for i in range(len(self.murs_horizontaux)):\n",
    "            for j in range(len(self.murs_horizontaux[i])):\n",
    "                if (self.murs_horizontaux[i][j]):\n",
    "                    graphHorizontal += line2d([(j, i+1), (j+1, i+1)], color=\"red\", thickness=2) # j'ai échangé j et i\n",
    "        for i in range(len(self.murs_verticaux)):\n",
    "            for j in range(len(self.murs_verticaux[i])):\n",
    "                if (self.murs_verticaux[i][j]):\n",
    "                    graphVertical += line2d([(i+1, j), (i+1, j+1)], color=\"red\", thickness=2)\n",
    "        return graphHorizontal + graphVertical + self.enceinte()"
   ]
  },
  {
   "cell_type": "markdown",
   "id": "5f9f890e-5b17-402e-9e0e-d6853147b4b8",
   "metadata": {},
   "source": [
    "# test d'affichage et de création d'un labyrinthe"
   ]
  },
  {
   "cell_type": "code",
   "execution_count": 10,
   "id": "fd557873-bdbe-4757-acf9-4d14519f28a6",
   "metadata": {
    "tags": []
   },
   "outputs": [
    {
     "data": {
      "image/png": "[encoded data removed]",
      "text/plain": [
       "Graphics object consisting of 6 graphics primitives"
      ]
     },
     "execution_count": 10,
     "metadata": {},
     "output_type": "execute_result"
    }
   ],
   "source": [
    "labyrinthe = pseudoLabyrinthe(6, 1)\n",
    "labyrinthe.generer_aleatoire()\n",
    "labyrinthe.afficher()"
   ]
  },
  {
   "cell_type": "code",
   "execution_count": null,
   "id": "2a574ec2-d9ed-40e2-8e7e-2301c956a003",
   "metadata": {},
   "outputs": [],
   "source": []
  }
 ],
 "metadata": {
  "kernelspec": {
   "display_name": "SageMath 10.2",
   "language": "sage",
   "name": "sagemath"
  },
  "language_info": {
   "codemirror_mode": {
    "name": "ipython",
    "version": 3
   },
   "file_extension": ".py",
   "mimetype": "text/x-python",
   "name": "python",
   "nbconvert_exporter": "python",
   "pygments_lexer": "ipython3",
   "version": "3.11.7"
  }
 },
 "nbformat": 4,
 "nbformat_minor": 5
}
