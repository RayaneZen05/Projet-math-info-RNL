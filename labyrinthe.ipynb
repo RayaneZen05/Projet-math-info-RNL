{
 "cells": [
  {
   "cell_type": "code",
   "execution_count": 2,
   "id": "083cf2a1-b43a-434b-b92a-16f28b104ad4",
   "metadata": {
    "tags": []
   },
   "outputs": [],
   "source": [
    "import random \n",
    "import numpy as np\n",
    "import itertools"
   ]
  },
  {
   "cell_type": "markdown",
   "id": "ec1c5d27-5e2f-469b-9a9d-9de245f341ff",
   "metadata": {
    "tags": []
   },
   "source": [
    "# Structure de données, affichage"
   ]
  },
  {
   "cell_type": "code",
   "execution_count": 3,
   "id": "43fc1fa9-7d3c-42a9-9926-1839587eb20c",
   "metadata": {
    "tags": []
   },
   "outputs": [],
   "source": [
    "# Représentation d'un pseudo-labyrinthe avec deux matrices de murs horizontaux et verticaux\n",
    "class pseudoLabyrinthe:\n",
    "    def __init__(self, n, m): # constructeur de la classe pseudolabyrinthe\n",
    "        self.n = n\n",
    "        self.m = m\n",
    "        # Matrice de murs (True = mur, False = passage)\n",
    "        self.murs_horizontaux = [[False for i in range(m)] for j in range(n-1)]\n",
    "        self.murs_verticaux = [[False for i in range(n)] for j in range(m-1)]\n",
    "\n",
    "    # Génère un pseudo-labyrinthe aléatoire\n",
    "    def generer_aleatoire(self):\n",
    "        for i in range(self.n - 1):\n",
    "            for j in range(self.m):\n",
    "                self.murs_horizontaux[i][j] = random.choice([True, False])\n",
    "        for i in range(self.m - 1):\n",
    "            for j in range(self.n):\n",
    "                self.murs_verticaux[i][j] = random.choice([True, False])\n",
    "    def enceinte(self):\n",
    "        \"\"\"\n",
    "        affiche une cellule de taille M*N, avec la grille\n",
    "        \"\"\"\n",
    "        k = line2d([(0,0), (self.m, 0), (self.m, self.n), (0, self.n), (0,0)], color=\"red\", thickness=2, gridlines=True)\n",
    "        return k\n",
    "    def afficher(self):\n",
    "        graphHorizontal = line2d([(0, 0), (0, 0)])\n",
    "        graphVertical = line2d([(0, 0), (0, 0)])\n",
    "        for i in range(len(self.murs_horizontaux)):\n",
    "            for j in range(len(self.murs_horizontaux[i])):\n",
    "                if (self.murs_horizontaux[i][j]):\n",
    "                    graphHorizontal += line2d([(j, i+1), (j+1, i+1)], color=\"red\", thickness=2) # j'ai échangé j et i\n",
    "        for i in range(len(self.murs_verticaux)):\n",
    "            for j in range(len(self.murs_verticaux[i])):\n",
    "                if (self.murs_verticaux[i][j]):\n",
    "                    graphVertical += line2d([(i+1, j), (i+1, j+1)], color=\"red\", thickness=2)\n",
    "        return graphHorizontal + graphVertical + self.enceinte()\n",
    "    def estconnexe(self):\n",
    "        \"\"\"\n",
    "         La complexité de l’algorithme de recherhce pour la fonction estconnexe() est O(n * m), où n est le nombre de lignes et m le nombre de colonnes dans le labyrinthe. \n",
    "         Cela signifie que dans le pire des cas, l’algorithme visitera chaque cellule une fois.\n",
    "\n",
    "         On explore chaque nœud (cellule) une fois et chaque arête (passage entre les cellules) une fois.\n",
    "         Dans un labyrinthe, le nombre total de passages possibles est proportionnel au nombre de cellules, \n",
    "        donc l’algorithme doit vérifier chaque cellule et chaque passage adjacent pour s’assurer qu’il a exploré toutes les parties accessibles du labyrinthe.\n",
    "         Même si certaines cellules sont visitées plus d’une fois à cause des retours en arrière, \n",
    "        chaque cellule est traitée une seule fois lorsqu’elle est visitée pour la première fois.\n",
    "        \"\"\"\n",
    "        passage = [[False for i in range(self.m)] for j in range(self.n)]\n",
    "        def recherche(i, j):\n",
    "            \"\"\"\n",
    "            Algorithme de recherche inspiré d'un DFS\n",
    "            \"\"\"\n",
    "            # Condition d'arrêt de notre boucle récursive\n",
    "            if i < 0 or i >= self.n or j < 0 or j >= self.m or passage[i][j]:\n",
    "                return\n",
    "            passage[i][j] = True  # Marquer la cellule comme visitée\n",
    "            # Parcourir les cellules adjacentes si il n'y a pas de mur\n",
    "            if i > 0 and not self.murs_horizontaux[i-1][j]:\n",
    "                recherche(i-1, j)\n",
    "            if i < self.n - 1 and not self.murs_horizontaux[i][j]:\n",
    "                recherche(i+1, j)\n",
    "            if j > 0 and not self.murs_verticaux[j-1][i]:\n",
    "                recherche(i, j-1)\n",
    "            if j < self.m - 1 and not self.murs_verticaux[j][i]:\n",
    "                recherche(i, j+1)\n",
    "\n",
    "        recherche(0, 0)  # Commencer le parcours à partir de la cellule (0, 0)\n",
    "        # Vérifier si toutes les cellules ont été visitées\n",
    "        return all(all(row) for row in passage)"
   ]
  },
  {
   "cell_type": "code",
   "execution_count": 4,
   "id": "4596370f",
   "metadata": {
    "tags": []
   },
   "outputs": [],
   "source": [
    "class presque_labyrinthe(pseudoLabyrinthe):\n",
    "    def __init__(self, n, m):\n",
    "        super().__init__(n, m)\n",
    "        l = np.random.permutation(np.array([0 for i in range(n*m-1)] + [1 for i in range((2*n*m - n - m )-(n*m)+1)]))\n",
    "        t = np.split(l, (n*(m-1),))\n",
    "        self.murs_horizontaux = list(np.split(t[1], n-1))\n",
    "        self.murs_verticaux = list(np.split(t[0], m-1))"
   ]
  },
  {
   "cell_type": "code",
   "execution_count": 29,
   "id": "6322dd18-a615-4202-95d9-77a8c30c1a8d",
   "metadata": {
    "tags": []
   },
   "outputs": [
    {
     "data": {
      "text/plain": [
       "'\\ndef generate_arrays(array):\\n    num_ones = array.count(1)\\n    num_zeros = array.count(0)\\n    size = len(array)\\n\\n    # Générer tous les arrangements possibles des éléments\\n    arrangements = set(permutations(array, size))\\n    return filtered_arrays\\n'"
      ]
     },
     "execution_count": 29,
     "metadata": {},
     "output_type": "execute_result"
    }
   ],
   "source": [
    "\"\"\"\n",
    "def generate_arrays(array):\n",
    "    num_ones = array.count(1)\n",
    "    num_zeros = array.count(0)\n",
    "    size = len(array)\n",
    "\n",
    "    # Générer tous les arrangements possibles des éléments\n",
    "    arrangements = set(permutations(array, size))\n",
    "    return filtered_arrays\n",
    "\"\"\" \n",
    "#  Avant amélioration par ChatGPT"
   ]
  },
  {
   "cell_type": "code",
   "execution_count": 21,
   "id": "cf0b5ff4-5789-4a6e-8c51-50e50ff9e986",
   "metadata": {
    "tags": []
   },
   "outputs": [],
   "source": [
    "def generate_arrays_recursive(array, index, num_ones, num_zeros, current_array, result):\n",
    "    # Cas de base : si tous les éléments ont été placés\n",
    "    if index == len(array):\n",
    "        result.append(current_array.copy())\n",
    "        return\n",
    "\n",
    "    # Si le prochain élément doit être 1\n",
    "    if num_ones > 0:\n",
    "        current_array[index] = 1\n",
    "        generate_arrays_recursive(array, index + 1, num_ones - 1, num_zeros, current_array, result)\n",
    "\n",
    "    # Si le prochain élément doit être 0\n",
    "    if num_zeros > 0:\n",
    "        current_array[index] = 0\n",
    "        generate_arrays_recursive(array, index + 1, num_ones, num_zeros - 1, current_array, result)\n",
    "\n",
    "def generate_arrays(array):\n",
    "    num_ones = array.count(1)\n",
    "    num_zeros = len(array) - num_ones\n",
    "    result = []\n",
    "\n",
    "    generate_arrays_recursive(array, 0, num_ones, num_zeros, [None] * len(array), result)\n",
    "\n",
    "    return result"
   ]
  },
  {
   "cell_type": "code",
   "execution_count": 22,
   "id": "c31f9181-63d6-4f59-b0e1-820efc0c1d42",
   "metadata": {
    "tags": []
   },
   "outputs": [],
   "source": [
    "def toutlaby(n,m):\n",
    "    count = 0\n",
    "    k = generate_arrays([0 for i in range(n*m-1)] + [1 for i in range((2*n*m - n - m )-(n*m)+1)])\n",
    "    lab = pseudoLabyrinthe(n,m)\n",
    "    for perm in k:\n",
    "        p = np.split(np.array(perm), (n*(m-1),))\n",
    "        lab.murs_horizontaux = list(np.split(p[1], n-1))\n",
    "        lab.murs_verticaux = list(np.split(p[0], m-1))\n",
    "        if lab.estconnexe():\n",
    "            count +=1\n",
    "    return count"
   ]
  },
  {
   "cell_type": "code",
   "execution_count": 28,
   "id": "1d922600-e4d7-46a6-af43-9ed045e6289c",
   "metadata": {
    "tags": []
   },
   "outputs": [
    {
     "data": {
      "text/plain": [
       "100352"
      ]
     },
     "execution_count": 28,
     "metadata": {},
     "output_type": "execute_result"
    }
   ],
   "source": [
    "toutlaby(4,4)"
   ]
  },
  {
   "cell_type": "code",
   "execution_count": null,
   "id": "934c9a7d",
   "metadata": {},
   "outputs": [],
   "source": [
    "lab  = presque_labyrinthe(5,2)\n",
    "lab.afficher()"
   ]
  },
  {
   "cell_type": "code",
   "execution_count": 20,
   "id": "03619d88",
   "metadata": {},
   "outputs": [
    {
     "data": {
      "text/plain": [
       "\u001b[0;31mInit signature:\u001b[0m \u001b[0mitertools\u001b[0m\u001b[0;34m.\u001b[0m\u001b[0mcombinations_with_replacement\u001b[0m\u001b[0;34m(\u001b[0m\u001b[0miterable\u001b[0m\u001b[0;34m,\u001b[0m \u001b[0mr\u001b[0m\u001b[0;34m)\u001b[0m\u001b[0;34m\u001b[0m\u001b[0;34m\u001b[0m\u001b[0m\n",
       "\u001b[0;31mDocstring:\u001b[0m     \n",
       "Return successive r-length combinations of elements in the iterable\n",
       "allowing individual elements to have successive repeats.\n",
       "\n",
       "combinations_with_replacement('ABC', 2) --> ('A','A'), ('A','B'),\n",
       "('A','C'), ('B','B'), ('B','C'), ('C','C')\n",
       "\u001b[0;31mInit docstring:\u001b[0m Initialize self.  See help(type(self)) for accurate signature.\n",
       "\u001b[0;31mFile:\u001b[0m           \n",
       "\u001b[0;31mType:\u001b[0m           type\n",
       "\u001b[0;31mSubclasses:\u001b[0m     "
      ]
     },
     "metadata": {},
     "output_type": "display_data"
    }
   ],
   "source": [
    "itertools.combinations_with_replacement?"
   ]
  },
  {
   "cell_type": "markdown",
   "id": "5f9f890e-5b17-402e-9e0e-d6853147b4b8",
   "metadata": {},
   "source": [
    "# test d'affichage et de création d'un labyrinthe"
   ]
  },
  {
   "cell_type": "code",
   "execution_count": null,
   "id": "fd557873-bdbe-4757-acf9-4d14519f28a6",
   "metadata": {
    "tags": []
   },
   "outputs": [],
   "source": [
    "labyrinthe = pseudoLabyrinthe(6, 1)\n",
    "labyrinthe.generer_aleatoire()\n",
    "labyrinthe.afficher()"
   ]
  },
  {
   "cell_type": "code",
   "execution_count": null,
   "id": "2a574ec2-d9ed-40e2-8e7e-2301c956a003",
   "metadata": {},
   "outputs": [],
   "source": []
  }
 ],
 "metadata": {
  "kernelspec": {
   "display_name": "SageMath 10.2",
   "language": "sage",
   "name": "sagemath"
  },
  "language_info": {
   "codemirror_mode": {
    "name": "ipython",
    "version": 3
   },
   "file_extension": ".py",
   "mimetype": "text/x-python",
   "name": "python",
   "nbconvert_exporter": "python",
   "pygments_lexer": "ipython3",
   "version": "3.11.8"
  }
 },
 "nbformat": 4,
 "nbformat_minor": 5
}
