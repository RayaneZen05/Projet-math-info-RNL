{
 "cells": [
  {
   "cell_type": "markdown",
   "id": "2dd0dc56-5119-4d17-852d-7f56cee7a036",
   "metadata": {},
   "source": [
    "# Objectifs"
   ]
  },
  {
   "cell_type": "markdown",
   "id": "5ec51e94-b9b0-49e6-b3a7-35ef152f63c0",
   "metadata": {},
   "source": [
    "l'objectif de cette feuille est de pouvoir lire des fichiers txt contenant des labyrinthes, afin de pouvoir déléguer le travail de processing à c++, et de seulement faire la représentation statistique avec python et sagemath, cela se fera en plusieurs tons :"
   ]
  },
  {
   "cell_type": "markdown",
   "id": "3de62590-aaaa-4223-b88a-16d69c77fa89",
   "metadata": {},
   "source": [
    "* affichage d'un labyrinthe\n",
    "* lecture d'un fichier\n",
    "* création éventuelle d'une fonction de hachage sur python pour les labyrinthes, afin de pouvoir les distinguer et faire des études statistiques\n",
    "* lecture et écriture en boucle, avec python, bash et c++"
   ]
  },
  {
   "cell_type": "markdown",
   "id": "1ad7f799-1c11-42df-9a2a-54bd7b88ca72",
   "metadata": {},
   "source": [
    "# import des fonctions utiles pour se représenter un labyrinthe"
   ]
  },
  {
   "cell_type": "code",
   "execution_count": 87,
   "id": "800c569d-d913-48ec-b7b1-278b2485e054",
   "metadata": {
    "tags": []
   },
   "outputs": [],
   "source": [
    "from ast import literal_eval # https://stackoverflow.com/questions/25023018/convert-a-string-tuple-to-a-tuple#comment38914179_25023018"
   ]
  },
  {
   "cell_type": "code",
   "execution_count": 95,
   "id": "819a2d0c-676d-44eb-8f87-420de600cbbf",
   "metadata": {
    "tags": []
   },
   "outputs": [],
   "source": [
    "import random\n",
    "class Cell:\n",
    "    def __init__(self,x,y):\n",
    "        self.x, self.y = x, y\n",
    "        self.walls = {'top':True, 'left':True, 'bottom':True, 'right':True}\n",
    "    def __eq__(self, other):\n",
    "        return self.x == other.x and self.y == other.y\n",
    "    \n",
    "    def __hash__(self):\n",
    "        \"\"\" surcharge de la fonction de hachage des cellules, pour pouvoir les utiliser dans des tables de hachage (dictionnaire) \"\"\"\n",
    "        return hash((self.x, self.y))\n",
    "    \n",
    "class GraphLabyrinth:\n",
    "    def __init__(self, m, n):\n",
    "        self.m = m\n",
    "        self.n = n\n",
    "        self.cells = []\n",
    "        for i in range(m):\n",
    "            for j in range(n):\n",
    "                self.cells.append(Cell(i, j))\n",
    "    def affiche(self):\n",
    "        listemurs = []\n",
    "        for cellule in self.cells:\n",
    "            if cellule.walls['top']:\n",
    "                    listemurs.append(line2d([(cellule.x, cellule.y+1), (cellule.x+1, cellule.y+1)], color='green', thickness=2))\n",
    "            if cellule.walls['bottom']:\n",
    "                listemurs.append(line2d([(cellule.x, cellule.y), (cellule.x+1, cellule.y)], color='green', thickness=2))\n",
    "            if cellule.walls['left']:\n",
    "                listemurs.append(line2d([(cellule.x, cellule.y), (cellule.x, cellule.y+1)], color='green', thickness=2))\n",
    "            if cellule.walls['right']:\n",
    "                listemurs.append(line2d([(cellule.x+1, cellule.y), (cellule.x+1, cellule.y+1)], color='green', thickness=2))\n",
    "        return sum(listemurs)\n",
    "    def debug(self):\n",
    "        for cellule in self.cells:\n",
    "            print(f\"({cellule.x}, {cellule.y}) : top : {cellule.walls['top']}, bottom : {cellule.walls['bottom']}, right : {cellule.walls['right']}, left : {cellule.walls['left']}\")\n",
    "    def read(self, filename):\n",
    "        file = open(filename, 'r')\n",
    "        content = file.readlines()\n",
    "        coords = []\n",
    "        wallvalues = []\n",
    "        for i in range(len(content)):\n",
    "            content[i] = content[i].strip('\\n').split(\":\")\n",
    "            coords.append(content[i][0])\n",
    "            wallvalues.append(content[i][1])\n",
    "        file.close()\n",
    "        #print(coords)\n",
    "        #print(wallvalues)\n",
    "        # Ici, les wallvalues commencent\n",
    "        for i in range(len(coords)):\n",
    "            coord = literal_eval(coords[i])\n",
    "            wallvalues[i] = wallvalues[i].strip()\n",
    "            #print(wallvalues[i][0])\n",
    "            self.cells[coord[0]*self.m + coord[1]].walls[\"top\"] = bool(int(wallvalues[i][0])) \n",
    "            self.cells[coord[0]*self.m + coord[1]].walls[\"bottom\"] = bool(int(wallvalues[i][1])) \n",
    "            self.cells[coord[0]*self.m + coord[1]].walls[\"right\"] = bool(int(wallvalues[i][2])) \n",
    "            self.cells[coord[0]*self.m + coord[1]].walls[\"left\"] = bool(int(wallvalues[i][3]))\n",
    "        print(\"yes\")"
   ]
  },
  {
   "cell_type": "code",
   "execution_count": 109,
   "id": "07dedb9b-4e53-4984-8d81-652a1340f981",
   "metadata": {
    "tags": []
   },
   "outputs": [
    {
     "name": "stdout",
     "output_type": "stream",
     "text": [
      "yes\n"
     ]
    }
   ],
   "source": [
    "laby = GraphLabyrinth(4, 6)\n",
    "laby.read(\"laby.txt\")"
   ]
  },
  {
   "cell_type": "code",
   "execution_count": 110,
   "id": "c09f80e8-83b4-4a3f-a234-986c32626e4b",
   "metadata": {
    "tags": []
   },
   "outputs": [
    {
     "data": {
      "image/png": "[encoded data removed]",
      "text/plain": [
       "Graphics object consisting of 61 graphics primitives"
      ]
     },
     "execution_count": 110,
     "metadata": {},
     "output_type": "execute_result"
    }
   ],
   "source": [
    "laby.affiche()"
   ]
  },
  {
   "cell_type": "code",
   "execution_count": null,
   "id": "bbdb8317-f7be-4675-8527-78856be35a62",
   "metadata": {},
   "outputs": [],
   "source": []
  }
 ],
 "metadata": {
  "kernelspec": {
   "display_name": "SageMath 10.2",
   "language": "sage",
   "name": "sagemath"
  },
  "language_info": {
   "codemirror_mode": {
    "name": "ipython",
    "version": 3
   },
   "file_extension": ".py",
   "mimetype": "text/x-python",
   "name": "python",
   "nbconvert_exporter": "python",
   "pygments_lexer": "ipython3",
   "version": "3.11.8"
  }
 },
 "nbformat": 4,
 "nbformat_minor": 5
}
