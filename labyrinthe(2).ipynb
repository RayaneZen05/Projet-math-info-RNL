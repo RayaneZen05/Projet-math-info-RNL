{
 "cells": [
  {
   "cell_type": "code",
   "execution_count": 1,
   "id": "083cf2a1-b43a-434b-b92a-16f28b104ad4",
   "metadata": {
    "tags": []
   },
   "outputs": [],
   "source": [
    "import random\n",
    "import numpy as np\n",
    "#import pandas as pd MARCHE PAS\n",
    "import matplotlib.pyplot as plt"
   ]
  },
  {
   "cell_type": "markdown",
   "id": "ec1c5d27-5e2f-469b-9a9d-9de245f341ff",
   "metadata": {},
   "source": [
    "# Structure de données, affichage"
   ]
  },
  {
   "cell_type": "code",
   "execution_count": 2,
   "id": "43fc1fa9-7d3c-42a9-9926-1839587eb20c",
   "metadata": {
    "tags": []
   },
   "outputs": [],
   "source": [
    "# Représentation d'un pseudo-labyrinthe avec deux matrices de murs horizontaux et verticaux\n",
    "class pseudoLabyrinthe:\n",
    "    def __init__(self, n, m): # constructeur de la classe pseudolabyrinthe\n",
    "        self.n = n\n",
    "        self.m = m\n",
    "        # Matrice de murs (True = mur, False = passage)\n",
    "        self.murs_horizontaux = [[False for i in range(m)] for j in range(n-1)]\n",
    "        self.murs_verticaux = [[False for i in range(n)] for j in range(m-1)]\n",
    "\n",
    "    # Génère un pseudo-labyrinthe aléatoire\n",
    "    def genereraleatoire(self):\n",
    "        for i in range(self.n - 1):\n",
    "            for j in range(self.m):\n",
    "                self.murs_horizontaux[i][j] = random.choice([True, False])\n",
    "        for i in range(self.m - 1):\n",
    "            for j in range(self.n):\n",
    "                self.murs_verticaux[i][j] = random.choice([True, False])\n",
    "    def enceinte(self):\n",
    "        \"\"\"\n",
    "        affiche une cellule de taille M*N, avec la grille\n",
    "        \"\"\"\n",
    "        k = line2d([(0,0), (self.m, 0), (self.m, self.n), (0, self.n), (0,0)], color=\"red\", thickness=2, gridlines=True)\n",
    "        return k\n",
    "    def afficher(self):\n",
    "        graphHorizontal = line2d([(0, 0), (0, 0)])\n",
    "        graphVertical = line2d([(0, 0), (0, 0)])\n",
    "        for i in range(len(self.murs_horizontaux)):\n",
    "            for j in range(len(self.murs_horizontaux[i])):\n",
    "                if (self.murs_horizontaux[i][j]):\n",
    "                    graphHorizontal += line2d([(j, i+1), (j+1, i+1)], color=\"red\", thickness=2) # j'ai échangé j et i\n",
    "        for i in range(len(self.murs_verticaux)):\n",
    "            for j in range(len(self.murs_verticaux[i])):\n",
    "                if (self.murs_verticaux[i][j]):\n",
    "                    graphVertical += line2d([(i+1, j), (i+1, j+1)], color=\"red\", thickness=2)\n",
    "        return graphHorizontal + graphVertical + self.enceinte()\n",
    "    def nbmurscorr(self):\n",
    "        l = np.random.permutation(np.array([0 for i in range(self.n*self.m-1)] \n",
    "                                           + [1 for i in range((2*self.n*self.m - self.n - self.m )-(self.n*self.m-1))]))\n",
    "        t = np.split(l, (self.n*(self.m-1),))\n",
    "        self.murs_horizontaux = list(np.split(t[1], self.n-1))\n",
    "        self.murs_verticaux = list(np.split(t[0], self.m-1))\n",
    "    def estconnexe(self):\n",
    "        \"\"\"\n",
    "         La complexité de l’algorithme de recherhce pour la fonction estconnexe() est O(n * m), où n est le nombre de lignes et m le nombre de colonnes dans le labyrinthe. \n",
    "         Cela signifie que dans le pire des cas, l’algorithme visitera chaque cellule une fois.\n",
    "\n",
    "         On explore chaque nœud (cellule) une fois et chaque arête (passage entre les cellules) une fois.\n",
    "         Dans un labyrinthe, le nombre total de passages possibles est proportionnel au nombre de cellules, \n",
    "        donc l’algorithme doit vérifier chaque cellule et chaque passage adjacent pour s’assurer qu’il a exploré toutes les parties accessibles du labyrinthe.\n",
    "         Même si certaines cellules sont visitées plus d’une fois à cause des retours en arrière, \n",
    "        chaque cellule est traitée une seule fois lorsqu’elle est visitée pour la première fois.\n",
    "        \"\"\"\n",
    "        passage = [[False for i in range(self.m)] for j in range(self.n)]\n",
    "        def recherche(i, j):\n",
    "            \"\"\"\n",
    "            Algorithme de recherche inspiré d'un DFS\n",
    "            \"\"\"\n",
    "            # Condition d'arrêt de notre boucle récursive\n",
    "            if i < 0 or i >= self.n or j < 0 or j >= self.m or passage[i][j]:\n",
    "                return\n",
    "            passage[i][j] = True  # Marquer la cellule comme visitée\n",
    "            # Parcourir les cellules adjacentes si il n'y a pas de mur\n",
    "            if i > 0 and not self.murs_horizontaux[i-1][j]:\n",
    "                recherche(i-1, j)\n",
    "            if i < self.n - 1 and not self.murs_horizontaux[i][j]:\n",
    "                recherche(i+1, j)\n",
    "            if j > 0 and not self.murs_verticaux[j-1][i]:\n",
    "                recherche(i, j-1)\n",
    "            if j < self.m - 1 and not self.murs_verticaux[j][i]:\n",
    "                recherche(i, j+1)\n",
    "\n",
    "        recherche(0, 0)  # Commencer le parcours à partir de la cellule (0, 0)\n",
    "        # Vérifier si toutes les cellules ont été visitées\n",
    "        return all(all(row) for row in passage)\n",
    "    def nmurs(self):\n",
    "        return np.sum(np.array(self.murs_horizontaux), dtype=int) + np.sum(np.array(self.murs_verticaux), dtype=int)\n",
    "    def estLabyrinthe(self):\n",
    "        return self.estconnexe() and self.nmurs() == self.n*self.m - self.n - self.m + 1"
   ]
  },
  {
   "cell_type": "code",
   "execution_count": 19,
   "id": "2db079e0-5613-413d-bf61-151216f68b2e",
   "metadata": {
    "tags": []
   },
   "outputs": [],
   "source": [
    "class labyrinthe(pseudoLabyrinthe):\n",
    "    def __init__(self, n, m):\n",
    "        super().__init__(n, m)\n",
    "    def ajouteraleatoire(self):\n",
    "        nalea = random.randint(1, self.n-1) \n",
    "        malea = random.randint(1, self.m-1)  \n",
    "        horizontal = random.choice([True, False])\n",
    "        if horizontal:\n",
    "            self.murs_horizontaux[nalea - 1][malea] = True\n",
    "        else:\n",
    "            self.murs_verticaux[malea - 1][nalea] = True\n",
    "        return nalea, malea, horizontal # on preserve l'information pour la fonction genereraleatoire\n",
    "    def genereraleatoirenaif(self):\n",
    "        \"\"\" \n",
    "        on adopte une approche itérative avec un algorithme dont la complexité\n",
    "        est O(inf) au pire des cas, c'est une generation de labyrinthe naive\n",
    "        >>> deprecated\n",
    "        \"\"\"\n",
    "        self.nbmurscorr()\n",
    "        while not self.estconnexe():\n",
    "            self.nbmurscorr()\n",
    "    # tuples (0,0) sur matrice\n",
    "    def genereraleatoirebis(self):\n",
    "        self.murs_horizontaux = [[False for i in range(self.m)] for j in range(self.n-1)]\n",
    "        self.murs_verticaux = [[False for i in range(self.n)] for j in range(self.m-1)]\n",
    "        while self.nmurs() != self.n*self.m - self.n - self.m + 1:\n",
    "            while self.estconnexe():\n",
    "                info = self.ajouteraleatoire()\n",
    "            # créer un dico ou on met tous les murs deja posés\n",
    "            if info[2]:\n",
    "                self.murs_horizontaux[info[0]-2][info[1]-1] = False\n",
    "            else:\n",
    "                self.murs_verticaux[info[1]-2][info[0]-1] = False\n",
    "    def genereraleatoireter(self):\n",
    "        self.murs_horizontaux = [[False for i in range(self.m)] for j in range(self.n-1)]\n",
    "        self.murs_verticaux = [[False for i in range(self.n)] for j in range(self.m-1)]\n",
    "        logmurs = []\n",
    "        max_attempts = 100  # Set a maximum number of attempts\n",
    "\n",
    "        while self.nmurs() != self.n*self.m - self.n - self.m + 1:\n",
    "            attempts = 0\n",
    "            while self.estconnexe() and attempts < max_attempts:\n",
    "                info = self.ajouteraleatoire()\n",
    "                if info not in logmurs:\n",
    "                    logmurs.append(info)\n",
    "                    attempts = 0 #piste à explorer\n",
    "                else:\n",
    "                    attempts += 1\n",
    "            if attempts >= max_attempts:\n",
    "                break\n",
    "\n",
    "            if info[2]:\n",
    "                self.murs_horizontaux[info[0]-2][info[1]-1] = False\n",
    "            else:\n",
    "                self.murs_verticaux[info[1]-2][info[0]-1] = False"
   ]
  },
  {
   "cell_type": "markdown",
   "id": "5f9f890e-5b17-402e-9e0e-d6853147b4b8",
   "metadata": {},
   "source": [
    "# test d'affichage et de création d'un labyrinthe"
   ]
  },
  {
   "cell_type": "code",
   "execution_count": 18,
   "id": "83fc011a-168b-42b8-8a31-a0ef33844b69",
   "metadata": {
    "tags": []
   },
   "outputs": [
    {
     "data": {
      "text/plain": [
       "[[False, False, False, False, False],\n",
       " [False, False, False, True, False],\n",
       " [False, True, False, False, False],\n",
       " [True, False, False, False, False],\n",
       " [False, True, False, False, False]]"
      ]
     },
     "execution_count": 18,
     "metadata": {},
     "output_type": "execute_result"
    }
   ],
   "source": [
    "a.murs_verticaux"
   ]
  },
  {
   "cell_type": "code",
   "execution_count": 21,
   "id": "8e923f3f-8ad0-4003-904b-e67916a33a7c",
   "metadata": {
    "tags": []
   },
   "outputs": [
    {
     "ename": "KeyboardInterrupt",
     "evalue": "",
     "output_type": "error",
     "traceback": [
      "\u001b[0;31m---------------------------------------------------------------------------\u001b[0m",
      "\u001b[0;31mKeyboardInterrupt\u001b[0m                         Traceback (most recent call last)",
      "Cell \u001b[0;32mIn[21], line 2\u001b[0m\n\u001b[1;32m      1\u001b[0m a \u001b[38;5;241m=\u001b[39m labyrinthe(Integer(\u001b[38;5;241m5\u001b[39m), Integer(\u001b[38;5;241m6\u001b[39m))\n\u001b[0;32m----> 2\u001b[0m \u001b[43ma\u001b[49m\u001b[38;5;241;43m.\u001b[39;49m\u001b[43mgenereraleatoireter\u001b[49m\u001b[43m(\u001b[49m\u001b[43m)\u001b[49m\n\u001b[1;32m      3\u001b[0m a\u001b[38;5;241m.\u001b[39mafficher()\n",
      "Cell \u001b[0;32mIn[19], line 42\u001b[0m, in \u001b[0;36mlabyrinthe.genereraleatoireter\u001b[0;34m(self)\u001b[0m\n\u001b[1;32m     40\u001b[0m \u001b[38;5;28;01mwhile\u001b[39;00m \u001b[38;5;28mself\u001b[39m\u001b[38;5;241m.\u001b[39mnmurs() \u001b[38;5;241m!=\u001b[39m \u001b[38;5;28mself\u001b[39m\u001b[38;5;241m.\u001b[39mn\u001b[38;5;241m*\u001b[39m\u001b[38;5;28mself\u001b[39m\u001b[38;5;241m.\u001b[39mm \u001b[38;5;241m-\u001b[39m \u001b[38;5;28mself\u001b[39m\u001b[38;5;241m.\u001b[39mn \u001b[38;5;241m-\u001b[39m \u001b[38;5;28mself\u001b[39m\u001b[38;5;241m.\u001b[39mm \u001b[38;5;241m+\u001b[39m Integer(\u001b[38;5;241m1\u001b[39m):\n\u001b[1;32m     41\u001b[0m     attempts \u001b[38;5;241m=\u001b[39m Integer(\u001b[38;5;241m0\u001b[39m)\n\u001b[0;32m---> 42\u001b[0m     \u001b[38;5;28;01mwhile\u001b[39;00m \u001b[38;5;28;43mself\u001b[39;49m\u001b[38;5;241;43m.\u001b[39;49m\u001b[43mestconnexe\u001b[49m\u001b[43m(\u001b[49m\u001b[43m)\u001b[49m \u001b[38;5;129;01mand\u001b[39;00m attempts \u001b[38;5;241m<\u001b[39m max_attempts:\n\u001b[1;32m     43\u001b[0m         info \u001b[38;5;241m=\u001b[39m \u001b[38;5;28mself\u001b[39m\u001b[38;5;241m.\u001b[39majouteraleatoire()\n\u001b[1;32m     44\u001b[0m         \u001b[38;5;28;01mif\u001b[39;00m info \u001b[38;5;129;01mnot\u001b[39;00m \u001b[38;5;129;01min\u001b[39;00m logmurs:\n",
      "Cell \u001b[0;32mIn[2], line 72\u001b[0m, in \u001b[0;36mpseudoLabyrinthe.estconnexe\u001b[0;34m(self)\u001b[0m\n\u001b[1;32m     69\u001b[0m     \u001b[38;5;28;01mif\u001b[39;00m j \u001b[38;5;241m<\u001b[39m \u001b[38;5;28mself\u001b[39m\u001b[38;5;241m.\u001b[39mm \u001b[38;5;241m-\u001b[39m Integer(\u001b[38;5;241m1\u001b[39m) \u001b[38;5;129;01mand\u001b[39;00m \u001b[38;5;129;01mnot\u001b[39;00m \u001b[38;5;28mself\u001b[39m\u001b[38;5;241m.\u001b[39mmurs_verticaux[j][i]:\n\u001b[1;32m     70\u001b[0m         recherche(i, j\u001b[38;5;241m+\u001b[39mInteger(\u001b[38;5;241m1\u001b[39m))\n\u001b[0;32m---> 72\u001b[0m \u001b[43mrecherche\u001b[49m\u001b[43m(\u001b[49m\u001b[43mInteger\u001b[49m\u001b[43m(\u001b[49m\u001b[38;5;241;43m0\u001b[39;49m\u001b[43m)\u001b[49m\u001b[43m,\u001b[49m\u001b[43m \u001b[49m\u001b[43mInteger\u001b[49m\u001b[43m(\u001b[49m\u001b[38;5;241;43m0\u001b[39;49m\u001b[43m)\u001b[49m\u001b[43m)\u001b[49m  \u001b[38;5;66;03m# Commencer le parcours à partir de la cellule (0, 0)\u001b[39;00m\n\u001b[1;32m     73\u001b[0m \u001b[38;5;66;03m# Vérifier si toutes les cellules ont été visitées\u001b[39;00m\n\u001b[1;32m     74\u001b[0m \u001b[38;5;28;01mreturn\u001b[39;00m \u001b[38;5;28mall\u001b[39m(\u001b[38;5;28mall\u001b[39m(row) \u001b[38;5;28;01mfor\u001b[39;00m row \u001b[38;5;129;01min\u001b[39;00m passage)\n",
      "Cell \u001b[0;32mIn[2], line 66\u001b[0m, in \u001b[0;36mpseudoLabyrinthe.estconnexe.<locals>.recherche\u001b[0;34m(i, j)\u001b[0m\n\u001b[1;32m     64\u001b[0m     recherche(i\u001b[38;5;241m-\u001b[39mInteger(\u001b[38;5;241m1\u001b[39m), j)\n\u001b[1;32m     65\u001b[0m \u001b[38;5;28;01mif\u001b[39;00m i \u001b[38;5;241m<\u001b[39m \u001b[38;5;28mself\u001b[39m\u001b[38;5;241m.\u001b[39mn \u001b[38;5;241m-\u001b[39m Integer(\u001b[38;5;241m1\u001b[39m) \u001b[38;5;129;01mand\u001b[39;00m \u001b[38;5;129;01mnot\u001b[39;00m \u001b[38;5;28mself\u001b[39m\u001b[38;5;241m.\u001b[39mmurs_horizontaux[i][j]:\n\u001b[0;32m---> 66\u001b[0m     \u001b[43mrecherche\u001b[49m\u001b[43m(\u001b[49m\u001b[43mi\u001b[49m\u001b[38;5;241;43m+\u001b[39;49m\u001b[43mInteger\u001b[49m\u001b[43m(\u001b[49m\u001b[38;5;241;43m1\u001b[39;49m\u001b[43m)\u001b[49m\u001b[43m,\u001b[49m\u001b[43m \u001b[49m\u001b[43mj\u001b[49m\u001b[43m)\u001b[49m\n\u001b[1;32m     67\u001b[0m \u001b[38;5;28;01mif\u001b[39;00m j \u001b[38;5;241m>\u001b[39m Integer(\u001b[38;5;241m0\u001b[39m) \u001b[38;5;129;01mand\u001b[39;00m \u001b[38;5;129;01mnot\u001b[39;00m \u001b[38;5;28mself\u001b[39m\u001b[38;5;241m.\u001b[39mmurs_verticaux[j\u001b[38;5;241m-\u001b[39mInteger(\u001b[38;5;241m1\u001b[39m)][i]:\n\u001b[1;32m     68\u001b[0m     recherche(i, j\u001b[38;5;241m-\u001b[39mInteger(\u001b[38;5;241m1\u001b[39m))\n",
      "Cell \u001b[0;32mIn[2], line 66\u001b[0m, in \u001b[0;36mpseudoLabyrinthe.estconnexe.<locals>.recherche\u001b[0;34m(i, j)\u001b[0m\n\u001b[1;32m     64\u001b[0m     recherche(i\u001b[38;5;241m-\u001b[39mInteger(\u001b[38;5;241m1\u001b[39m), j)\n\u001b[1;32m     65\u001b[0m \u001b[38;5;28;01mif\u001b[39;00m i \u001b[38;5;241m<\u001b[39m \u001b[38;5;28mself\u001b[39m\u001b[38;5;241m.\u001b[39mn \u001b[38;5;241m-\u001b[39m Integer(\u001b[38;5;241m1\u001b[39m) \u001b[38;5;129;01mand\u001b[39;00m \u001b[38;5;129;01mnot\u001b[39;00m \u001b[38;5;28mself\u001b[39m\u001b[38;5;241m.\u001b[39mmurs_horizontaux[i][j]:\n\u001b[0;32m---> 66\u001b[0m     \u001b[43mrecherche\u001b[49m\u001b[43m(\u001b[49m\u001b[43mi\u001b[49m\u001b[38;5;241;43m+\u001b[39;49m\u001b[43mInteger\u001b[49m\u001b[43m(\u001b[49m\u001b[38;5;241;43m1\u001b[39;49m\u001b[43m)\u001b[49m\u001b[43m,\u001b[49m\u001b[43m \u001b[49m\u001b[43mj\u001b[49m\u001b[43m)\u001b[49m\n\u001b[1;32m     67\u001b[0m \u001b[38;5;28;01mif\u001b[39;00m j \u001b[38;5;241m>\u001b[39m Integer(\u001b[38;5;241m0\u001b[39m) \u001b[38;5;129;01mand\u001b[39;00m \u001b[38;5;129;01mnot\u001b[39;00m \u001b[38;5;28mself\u001b[39m\u001b[38;5;241m.\u001b[39mmurs_verticaux[j\u001b[38;5;241m-\u001b[39mInteger(\u001b[38;5;241m1\u001b[39m)][i]:\n\u001b[1;32m     68\u001b[0m     recherche(i, j\u001b[38;5;241m-\u001b[39mInteger(\u001b[38;5;241m1\u001b[39m))\n",
      "    \u001b[0;31m[... skipping similar frames: pseudoLabyrinthe.estconnexe.<locals>.recherche at line 66 (1 times)]\u001b[0m\n",
      "Cell \u001b[0;32mIn[2], line 66\u001b[0m, in \u001b[0;36mpseudoLabyrinthe.estconnexe.<locals>.recherche\u001b[0;34m(i, j)\u001b[0m\n\u001b[1;32m     64\u001b[0m     recherche(i\u001b[38;5;241m-\u001b[39mInteger(\u001b[38;5;241m1\u001b[39m), j)\n\u001b[1;32m     65\u001b[0m \u001b[38;5;28;01mif\u001b[39;00m i \u001b[38;5;241m<\u001b[39m \u001b[38;5;28mself\u001b[39m\u001b[38;5;241m.\u001b[39mn \u001b[38;5;241m-\u001b[39m Integer(\u001b[38;5;241m1\u001b[39m) \u001b[38;5;129;01mand\u001b[39;00m \u001b[38;5;129;01mnot\u001b[39;00m \u001b[38;5;28mself\u001b[39m\u001b[38;5;241m.\u001b[39mmurs_horizontaux[i][j]:\n\u001b[0;32m---> 66\u001b[0m     \u001b[43mrecherche\u001b[49m\u001b[43m(\u001b[49m\u001b[43mi\u001b[49m\u001b[38;5;241;43m+\u001b[39;49m\u001b[43mInteger\u001b[49m\u001b[43m(\u001b[49m\u001b[38;5;241;43m1\u001b[39;49m\u001b[43m)\u001b[49m\u001b[43m,\u001b[49m\u001b[43m \u001b[49m\u001b[43mj\u001b[49m\u001b[43m)\u001b[49m\n\u001b[1;32m     67\u001b[0m \u001b[38;5;28;01mif\u001b[39;00m j \u001b[38;5;241m>\u001b[39m Integer(\u001b[38;5;241m0\u001b[39m) \u001b[38;5;129;01mand\u001b[39;00m \u001b[38;5;129;01mnot\u001b[39;00m \u001b[38;5;28mself\u001b[39m\u001b[38;5;241m.\u001b[39mmurs_verticaux[j\u001b[38;5;241m-\u001b[39mInteger(\u001b[38;5;241m1\u001b[39m)][i]:\n\u001b[1;32m     68\u001b[0m     recherche(i, j\u001b[38;5;241m-\u001b[39mInteger(\u001b[38;5;241m1\u001b[39m))\n",
      "Cell \u001b[0;32mIn[2], line 70\u001b[0m, in \u001b[0;36mpseudoLabyrinthe.estconnexe.<locals>.recherche\u001b[0;34m(i, j)\u001b[0m\n\u001b[1;32m     68\u001b[0m     recherche(i, j\u001b[38;5;241m-\u001b[39mInteger(\u001b[38;5;241m1\u001b[39m))\n\u001b[1;32m     69\u001b[0m \u001b[38;5;28;01mif\u001b[39;00m j \u001b[38;5;241m<\u001b[39m \u001b[38;5;28mself\u001b[39m\u001b[38;5;241m.\u001b[39mm \u001b[38;5;241m-\u001b[39m Integer(\u001b[38;5;241m1\u001b[39m) \u001b[38;5;129;01mand\u001b[39;00m \u001b[38;5;129;01mnot\u001b[39;00m \u001b[38;5;28mself\u001b[39m\u001b[38;5;241m.\u001b[39mmurs_verticaux[j][i]:\n\u001b[0;32m---> 70\u001b[0m     \u001b[43mrecherche\u001b[49m\u001b[43m(\u001b[49m\u001b[43mi\u001b[49m\u001b[43m,\u001b[49m\u001b[43m \u001b[49m\u001b[43mj\u001b[49m\u001b[38;5;241;43m+\u001b[39;49m\u001b[43mInteger\u001b[49m\u001b[43m(\u001b[49m\u001b[38;5;241;43m1\u001b[39;49m\u001b[43m)\u001b[49m\u001b[43m)\u001b[49m\n",
      "Cell \u001b[0;32mIn[2], line 64\u001b[0m, in \u001b[0;36mpseudoLabyrinthe.estconnexe.<locals>.recherche\u001b[0;34m(i, j)\u001b[0m\n\u001b[1;32m     62\u001b[0m \u001b[38;5;66;03m# Parcourir les cellules adjacentes si il n'y a pas de mur\u001b[39;00m\n\u001b[1;32m     63\u001b[0m \u001b[38;5;28;01mif\u001b[39;00m i \u001b[38;5;241m>\u001b[39m Integer(\u001b[38;5;241m0\u001b[39m) \u001b[38;5;129;01mand\u001b[39;00m \u001b[38;5;129;01mnot\u001b[39;00m \u001b[38;5;28mself\u001b[39m\u001b[38;5;241m.\u001b[39mmurs_horizontaux[i\u001b[38;5;241m-\u001b[39mInteger(\u001b[38;5;241m1\u001b[39m)][j]:\n\u001b[0;32m---> 64\u001b[0m     \u001b[43mrecherche\u001b[49m\u001b[43m(\u001b[49m\u001b[43mi\u001b[49m\u001b[38;5;241;43m-\u001b[39;49m\u001b[43mInteger\u001b[49m\u001b[43m(\u001b[49m\u001b[38;5;241;43m1\u001b[39;49m\u001b[43m)\u001b[49m\u001b[43m,\u001b[49m\u001b[43m \u001b[49m\u001b[43mj\u001b[49m\u001b[43m)\u001b[49m\n\u001b[1;32m     65\u001b[0m \u001b[38;5;28;01mif\u001b[39;00m i \u001b[38;5;241m<\u001b[39m \u001b[38;5;28mself\u001b[39m\u001b[38;5;241m.\u001b[39mn \u001b[38;5;241m-\u001b[39m Integer(\u001b[38;5;241m1\u001b[39m) \u001b[38;5;129;01mand\u001b[39;00m \u001b[38;5;129;01mnot\u001b[39;00m \u001b[38;5;28mself\u001b[39m\u001b[38;5;241m.\u001b[39mmurs_horizontaux[i][j]:\n\u001b[1;32m     66\u001b[0m     recherche(i\u001b[38;5;241m+\u001b[39mInteger(\u001b[38;5;241m1\u001b[39m), j)\n",
      "Cell \u001b[0;32mIn[2], line 64\u001b[0m, in \u001b[0;36mpseudoLabyrinthe.estconnexe.<locals>.recherche\u001b[0;34m(i, j)\u001b[0m\n\u001b[1;32m     62\u001b[0m \u001b[38;5;66;03m# Parcourir les cellules adjacentes si il n'y a pas de mur\u001b[39;00m\n\u001b[1;32m     63\u001b[0m \u001b[38;5;28;01mif\u001b[39;00m i \u001b[38;5;241m>\u001b[39m Integer(\u001b[38;5;241m0\u001b[39m) \u001b[38;5;129;01mand\u001b[39;00m \u001b[38;5;129;01mnot\u001b[39;00m \u001b[38;5;28mself\u001b[39m\u001b[38;5;241m.\u001b[39mmurs_horizontaux[i\u001b[38;5;241m-\u001b[39mInteger(\u001b[38;5;241m1\u001b[39m)][j]:\n\u001b[0;32m---> 64\u001b[0m     \u001b[43mrecherche\u001b[49m\u001b[43m(\u001b[49m\u001b[43mi\u001b[49m\u001b[38;5;241;43m-\u001b[39;49m\u001b[43mInteger\u001b[49m\u001b[43m(\u001b[49m\u001b[38;5;241;43m1\u001b[39;49m\u001b[43m)\u001b[49m\u001b[43m,\u001b[49m\u001b[43m \u001b[49m\u001b[43mj\u001b[49m\u001b[43m)\u001b[49m\n\u001b[1;32m     65\u001b[0m \u001b[38;5;28;01mif\u001b[39;00m i \u001b[38;5;241m<\u001b[39m \u001b[38;5;28mself\u001b[39m\u001b[38;5;241m.\u001b[39mn \u001b[38;5;241m-\u001b[39m Integer(\u001b[38;5;241m1\u001b[39m) \u001b[38;5;129;01mand\u001b[39;00m \u001b[38;5;129;01mnot\u001b[39;00m \u001b[38;5;28mself\u001b[39m\u001b[38;5;241m.\u001b[39mmurs_horizontaux[i][j]:\n\u001b[1;32m     66\u001b[0m     recherche(i\u001b[38;5;241m+\u001b[39mInteger(\u001b[38;5;241m1\u001b[39m), j)\n",
      "Cell \u001b[0;32mIn[2], line 64\u001b[0m, in \u001b[0;36mpseudoLabyrinthe.estconnexe.<locals>.recherche\u001b[0;34m(i, j)\u001b[0m\n\u001b[1;32m     62\u001b[0m \u001b[38;5;66;03m# Parcourir les cellules adjacentes si il n'y a pas de mur\u001b[39;00m\n\u001b[1;32m     63\u001b[0m \u001b[38;5;28;01mif\u001b[39;00m i \u001b[38;5;241m>\u001b[39m Integer(\u001b[38;5;241m0\u001b[39m) \u001b[38;5;129;01mand\u001b[39;00m \u001b[38;5;129;01mnot\u001b[39;00m \u001b[38;5;28mself\u001b[39m\u001b[38;5;241m.\u001b[39mmurs_horizontaux[i\u001b[38;5;241m-\u001b[39mInteger(\u001b[38;5;241m1\u001b[39m)][j]:\n\u001b[0;32m---> 64\u001b[0m     \u001b[43mrecherche\u001b[49m\u001b[43m(\u001b[49m\u001b[43mi\u001b[49m\u001b[38;5;241;43m-\u001b[39;49m\u001b[43mInteger\u001b[49m\u001b[43m(\u001b[49m\u001b[38;5;241;43m1\u001b[39;49m\u001b[43m)\u001b[49m\u001b[43m,\u001b[49m\u001b[43m \u001b[49m\u001b[43mj\u001b[49m\u001b[43m)\u001b[49m\n\u001b[1;32m     65\u001b[0m \u001b[38;5;28;01mif\u001b[39;00m i \u001b[38;5;241m<\u001b[39m \u001b[38;5;28mself\u001b[39m\u001b[38;5;241m.\u001b[39mn \u001b[38;5;241m-\u001b[39m Integer(\u001b[38;5;241m1\u001b[39m) \u001b[38;5;129;01mand\u001b[39;00m \u001b[38;5;129;01mnot\u001b[39;00m \u001b[38;5;28mself\u001b[39m\u001b[38;5;241m.\u001b[39mmurs_horizontaux[i][j]:\n\u001b[1;32m     66\u001b[0m     recherche(i\u001b[38;5;241m+\u001b[39mInteger(\u001b[38;5;241m1\u001b[39m), j)\n",
      "Cell \u001b[0;32mIn[2], line 70\u001b[0m, in \u001b[0;36mpseudoLabyrinthe.estconnexe.<locals>.recherche\u001b[0;34m(i, j)\u001b[0m\n\u001b[1;32m     68\u001b[0m     recherche(i, j\u001b[38;5;241m-\u001b[39mInteger(\u001b[38;5;241m1\u001b[39m))\n\u001b[1;32m     69\u001b[0m \u001b[38;5;28;01mif\u001b[39;00m j \u001b[38;5;241m<\u001b[39m \u001b[38;5;28mself\u001b[39m\u001b[38;5;241m.\u001b[39mm \u001b[38;5;241m-\u001b[39m Integer(\u001b[38;5;241m1\u001b[39m) \u001b[38;5;129;01mand\u001b[39;00m \u001b[38;5;129;01mnot\u001b[39;00m \u001b[38;5;28mself\u001b[39m\u001b[38;5;241m.\u001b[39mmurs_verticaux[j][i]:\n\u001b[0;32m---> 70\u001b[0m     \u001b[43mrecherche\u001b[49m\u001b[43m(\u001b[49m\u001b[43mi\u001b[49m\u001b[43m,\u001b[49m\u001b[43m \u001b[49m\u001b[43mj\u001b[49m\u001b[38;5;241;43m+\u001b[39;49m\u001b[43mInteger\u001b[49m\u001b[43m(\u001b[49m\u001b[38;5;241;43m1\u001b[39;49m\u001b[43m)\u001b[49m\u001b[43m)\u001b[49m\n",
      "Cell \u001b[0;32mIn[2], line 64\u001b[0m, in \u001b[0;36mpseudoLabyrinthe.estconnexe.<locals>.recherche\u001b[0;34m(i, j)\u001b[0m\n\u001b[1;32m     62\u001b[0m \u001b[38;5;66;03m# Parcourir les cellules adjacentes si il n'y a pas de mur\u001b[39;00m\n\u001b[1;32m     63\u001b[0m \u001b[38;5;28;01mif\u001b[39;00m i \u001b[38;5;241m>\u001b[39m Integer(\u001b[38;5;241m0\u001b[39m) \u001b[38;5;129;01mand\u001b[39;00m \u001b[38;5;129;01mnot\u001b[39;00m \u001b[38;5;28mself\u001b[39m\u001b[38;5;241m.\u001b[39mmurs_horizontaux[i\u001b[38;5;241m-\u001b[39mInteger(\u001b[38;5;241m1\u001b[39m)][j]:\n\u001b[0;32m---> 64\u001b[0m     \u001b[43mrecherche\u001b[49m\u001b[43m(\u001b[49m\u001b[43mi\u001b[49m\u001b[38;5;241;43m-\u001b[39;49m\u001b[43mInteger\u001b[49m\u001b[43m(\u001b[49m\u001b[38;5;241;43m1\u001b[39;49m\u001b[43m)\u001b[49m\u001b[43m,\u001b[49m\u001b[43m \u001b[49m\u001b[43mj\u001b[49m\u001b[43m)\u001b[49m\n\u001b[1;32m     65\u001b[0m \u001b[38;5;28;01mif\u001b[39;00m i \u001b[38;5;241m<\u001b[39m \u001b[38;5;28mself\u001b[39m\u001b[38;5;241m.\u001b[39mn \u001b[38;5;241m-\u001b[39m Integer(\u001b[38;5;241m1\u001b[39m) \u001b[38;5;129;01mand\u001b[39;00m \u001b[38;5;129;01mnot\u001b[39;00m \u001b[38;5;28mself\u001b[39m\u001b[38;5;241m.\u001b[39mmurs_horizontaux[i][j]:\n\u001b[1;32m     66\u001b[0m     recherche(i\u001b[38;5;241m+\u001b[39mInteger(\u001b[38;5;241m1\u001b[39m), j)\n",
      "Cell \u001b[0;32mIn[2], line 70\u001b[0m, in \u001b[0;36mpseudoLabyrinthe.estconnexe.<locals>.recherche\u001b[0;34m(i, j)\u001b[0m\n\u001b[1;32m     68\u001b[0m     recherche(i, j\u001b[38;5;241m-\u001b[39mInteger(\u001b[38;5;241m1\u001b[39m))\n\u001b[1;32m     69\u001b[0m \u001b[38;5;28;01mif\u001b[39;00m j \u001b[38;5;241m<\u001b[39m \u001b[38;5;28mself\u001b[39m\u001b[38;5;241m.\u001b[39mm \u001b[38;5;241m-\u001b[39m Integer(\u001b[38;5;241m1\u001b[39m) \u001b[38;5;129;01mand\u001b[39;00m \u001b[38;5;129;01mnot\u001b[39;00m \u001b[38;5;28mself\u001b[39m\u001b[38;5;241m.\u001b[39mmurs_verticaux[j][i]:\n\u001b[0;32m---> 70\u001b[0m     \u001b[43mrecherche\u001b[49m\u001b[43m(\u001b[49m\u001b[43mi\u001b[49m\u001b[43m,\u001b[49m\u001b[43m \u001b[49m\u001b[43mj\u001b[49m\u001b[38;5;241;43m+\u001b[39;49m\u001b[43mInteger\u001b[49m\u001b[43m(\u001b[49m\u001b[38;5;241;43m1\u001b[39;49m\u001b[43m)\u001b[49m\u001b[43m)\u001b[49m\n",
      "Cell \u001b[0;32mIn[2], line 66\u001b[0m, in \u001b[0;36mpseudoLabyrinthe.estconnexe.<locals>.recherche\u001b[0;34m(i, j)\u001b[0m\n\u001b[1;32m     64\u001b[0m     recherche(i\u001b[38;5;241m-\u001b[39mInteger(\u001b[38;5;241m1\u001b[39m), j)\n\u001b[1;32m     65\u001b[0m \u001b[38;5;28;01mif\u001b[39;00m i \u001b[38;5;241m<\u001b[39m \u001b[38;5;28mself\u001b[39m\u001b[38;5;241m.\u001b[39mn \u001b[38;5;241m-\u001b[39m Integer(\u001b[38;5;241m1\u001b[39m) \u001b[38;5;129;01mand\u001b[39;00m \u001b[38;5;129;01mnot\u001b[39;00m \u001b[38;5;28mself\u001b[39m\u001b[38;5;241m.\u001b[39mmurs_horizontaux[i][j]:\n\u001b[0;32m---> 66\u001b[0m     \u001b[43mrecherche\u001b[49m\u001b[43m(\u001b[49m\u001b[43mi\u001b[49m\u001b[38;5;241;43m+\u001b[39;49m\u001b[43mInteger\u001b[49m\u001b[43m(\u001b[49m\u001b[38;5;241;43m1\u001b[39;49m\u001b[43m)\u001b[49m\u001b[43m,\u001b[49m\u001b[43m \u001b[49m\u001b[43mj\u001b[49m\u001b[43m)\u001b[49m\n\u001b[1;32m     67\u001b[0m \u001b[38;5;28;01mif\u001b[39;00m j \u001b[38;5;241m>\u001b[39m Integer(\u001b[38;5;241m0\u001b[39m) \u001b[38;5;129;01mand\u001b[39;00m \u001b[38;5;129;01mnot\u001b[39;00m \u001b[38;5;28mself\u001b[39m\u001b[38;5;241m.\u001b[39mmurs_verticaux[j\u001b[38;5;241m-\u001b[39mInteger(\u001b[38;5;241m1\u001b[39m)][i]:\n\u001b[1;32m     68\u001b[0m     recherche(i, j\u001b[38;5;241m-\u001b[39mInteger(\u001b[38;5;241m1\u001b[39m))\n",
      "Cell \u001b[0;32mIn[2], line 68\u001b[0m, in \u001b[0;36mpseudoLabyrinthe.estconnexe.<locals>.recherche\u001b[0;34m(i, j)\u001b[0m\n\u001b[1;32m     66\u001b[0m     recherche(i\u001b[38;5;241m+\u001b[39mInteger(\u001b[38;5;241m1\u001b[39m), j)\n\u001b[1;32m     67\u001b[0m \u001b[38;5;28;01mif\u001b[39;00m j \u001b[38;5;241m>\u001b[39m Integer(\u001b[38;5;241m0\u001b[39m) \u001b[38;5;129;01mand\u001b[39;00m \u001b[38;5;129;01mnot\u001b[39;00m \u001b[38;5;28mself\u001b[39m\u001b[38;5;241m.\u001b[39mmurs_verticaux[j\u001b[38;5;241m-\u001b[39mInteger(\u001b[38;5;241m1\u001b[39m)][i]:\n\u001b[0;32m---> 68\u001b[0m     recherche(i, j\u001b[38;5;241m-\u001b[39m\u001b[43mInteger\u001b[49m\u001b[43m(\u001b[49m\u001b[38;5;241;43m1\u001b[39;49m\u001b[43m)\u001b[49m)\n\u001b[1;32m     69\u001b[0m \u001b[38;5;28;01mif\u001b[39;00m j \u001b[38;5;241m<\u001b[39m \u001b[38;5;28mself\u001b[39m\u001b[38;5;241m.\u001b[39mm \u001b[38;5;241m-\u001b[39m Integer(\u001b[38;5;241m1\u001b[39m) \u001b[38;5;129;01mand\u001b[39;00m \u001b[38;5;129;01mnot\u001b[39;00m \u001b[38;5;28mself\u001b[39m\u001b[38;5;241m.\u001b[39mmurs_verticaux[j][i]:\n\u001b[1;32m     70\u001b[0m     recherche(i, j\u001b[38;5;241m+\u001b[39mInteger(\u001b[38;5;241m1\u001b[39m))\n",
      "File \u001b[0;32msrc/cysignals/signals.pyx:310\u001b[0m, in \u001b[0;36mcysignals.signals.python_check_interrupt\u001b[0;34m()\u001b[0m\n",
      "\u001b[0;31mKeyboardInterrupt\u001b[0m: "
     ]
    }
   ],
   "source": [
    "a = labyrinthe(5, 6)\n",
    "a.genereraleatoireter()\n",
    "a.afficher()"
   ]
  },
  {
   "cell_type": "code",
   "execution_count": null,
   "id": "2a574ec2-d9ed-40e2-8e7e-2301c956a003",
   "metadata": {
    "tags": []
   },
   "outputs": [],
   "source": [
    "for i in range(100):\n",
    "    a.genereraleatoireter()\n",
    "    if a.estLabyrinthe():\n",
    "        a.afficher()\n",
    "    else:\n",
    "        print(f\"Nombre de murs du labyrinthe courant : {a.nmurs()} \\nNombre de murs attendu : {a.n*a.m-a.n-a.m+1} \\nConnexe = {a.estconnexe()}\")\n",
    "        raise RuntimeError"
   ]
  },
  {
   "cell_type": "markdown",
   "id": "d2416754-d9a5-4707-8105-460768fc1cc9",
   "metadata": {},
   "source": [
    "# Calcul combinatoire sur les labyrinthes"
   ]
  },
  {
   "cell_type": "markdown",
   "id": "6ee92ed1-785a-49d0-bf2a-d625d7a4c17e",
   "metadata": {},
   "source": [
    "## Vérification"
   ]
  },
  {
   "cell_type": "markdown",
   "id": "ced3bde2-9958-4f79-b6c2-ffbfae390db1",
   "metadata": {},
   "source": [
    "Nous allons vérifier si la génération de notre labyrinthe est uniforme, voici des étapes à suivre : \n",
    "* générer un labyrinthe aléatoirement.\n",
    "* lui assigner un nombre tiré des valeurs de ses matrices\n",
    "* mettre ce labyrinthe dans un dictionnaire/un tableau pandas\n",
    "* vérifier la distribution                            \n",
    "Effectuons ce test sur un labyrinthe 2x3"
   ]
  },
  {
   "cell_type": "markdown",
   "id": "0215667f-8581-45d5-978c-66cb7a92017a",
   "metadata": {},
   "source": [
    "### moyenne des baricentres de nos matrices"
   ]
  },
  {
   "cell_type": "code",
   "execution_count": 158,
   "id": "b08de452-88d7-4112-8517-3bd192748afd",
   "metadata": {
    "tags": []
   },
   "outputs": [
    {
     "data": {
      "text/plain": [
       "array([[0, 0],\n",
       "       [0, 0]])"
      ]
     },
     "execution_count": 158,
     "metadata": {},
     "output_type": "execute_result"
    }
   ],
   "source": [
    "np.array(lab32.murs_horizontaux, dtype = int)"
   ]
  },
  {
   "cell_type": "code",
   "execution_count": 83,
   "id": "2911b149-f9a7-42af-8125-dd2951d24c20",
   "metadata": {
    "tags": []
   },
   "outputs": [
    {
     "data": {
      "text/plain": [
       "36.464702829775796"
      ]
     },
     "execution_count": 83,
     "metadata": {},
     "output_type": "execute_result"
    }
   ],
   "source": [
    "np.mean(np.argwhere(a.murs_horizontaux), axis=None) + np.mean(np.argwhere(a.murs_verticaux), axis=None)/2"
   ]
  },
  {
   "cell_type": "code",
   "execution_count": 8,
   "id": "6e996c67-94cb-4390-80b3-090b00172bee",
   "metadata": {
    "tags": []
   },
   "outputs": [],
   "source": [
    "lab32 = labyrinthe(2,3)"
   ]
  },
  {
   "cell_type": "code",
   "execution_count": 6,
   "id": "feb18b60-f665-4fc9-8731-5810ed67e5c2",
   "metadata": {
    "tags": []
   },
   "outputs": [
    {
     "ename": "NameError",
     "evalue": "name 'lab32' is not defined",
     "output_type": "error",
     "traceback": [
      "\u001b[0;31m---------------------------------------------------------------------------\u001b[0m",
      "\u001b[0;31mNameError\u001b[0m                                 Traceback (most recent call last)",
      "Cell \u001b[0;32mIn[6], line 1\u001b[0m\n\u001b[0;32m----> 1\u001b[0m \u001b[43mlab32\u001b[49m\u001b[38;5;241m.\u001b[39mgenereraleatoireter()\n",
      "\u001b[0;31mNameError\u001b[0m: name 'lab32' is not defined"
     ]
    }
   ],
   "source": [
    "lab32.genereraleatoireter()"
   ]
  },
  {
   "cell_type": "code",
   "execution_count": 148,
   "id": "a52fb2de-7856-4a4c-b2f5-794a051679bc",
   "metadata": {
    "tags": []
   },
   "outputs": [],
   "source": [
    "def signature(lab):\n",
    "    return ((np.mean(np.sum(np.argwhere(np.array(lab.murs_horizontaux, dtype=int)), axis=None))) + (\n",
    "        np.mean(np.sum(np.argwhere(np.array(lab32.murs_verticaux, dtype=int)), axis=None)))) / 2"
   ]
  },
  {
   "cell_type": "code",
   "execution_count": 165,
   "id": "2f5a0ce8-1888-48f3-b5ca-555122ff799a",
   "metadata": {
    "tags": []
   },
   "outputs": [
    {
     "ename": "KeyboardInterrupt",
     "evalue": "",
     "output_type": "error",
     "traceback": [
      "\u001b[0;31m---------------------------------------------------------------------------\u001b[0m",
      "\u001b[0;31mKeyboardInterrupt\u001b[0m                         Traceback (most recent call last)",
      "Cell \u001b[0;32mIn[165], line 2\u001b[0m\n\u001b[1;32m      1\u001b[0m \u001b[38;5;28;01mfor\u001b[39;00m i \u001b[38;5;129;01min\u001b[39;00m \u001b[38;5;28mrange\u001b[39m(Integer(\u001b[38;5;241m100\u001b[39m)):\n\u001b[0;32m----> 2\u001b[0m     \u001b[43mlab32\u001b[49m\u001b[38;5;241;43m.\u001b[39;49m\u001b[43mgenereraleatoireter\u001b[49m\u001b[43m(\u001b[49m\u001b[43m)\u001b[49m\n",
      "Cell \u001b[0;32mIn[155], line 39\u001b[0m, in \u001b[0;36mlabyrinthe.genereraleatoireter\u001b[0;34m(self)\u001b[0m\n\u001b[1;32m     36\u001b[0m logmurs \u001b[38;5;241m=\u001b[39m []\n\u001b[1;32m     37\u001b[0m max_attempts \u001b[38;5;241m=\u001b[39m Integer(\u001b[38;5;241m100\u001b[39m)  \u001b[38;5;66;03m# Set a maximum number of attempts\u001b[39;00m\n\u001b[0;32m---> 39\u001b[0m \u001b[38;5;28;01mwhile\u001b[39;00m \u001b[38;5;28;43mself\u001b[39;49m\u001b[38;5;241;43m.\u001b[39;49m\u001b[43mnmurs\u001b[49m\u001b[43m(\u001b[49m\u001b[43m)\u001b[49m \u001b[38;5;241m!=\u001b[39m \u001b[38;5;28mself\u001b[39m\u001b[38;5;241m.\u001b[39mn\u001b[38;5;241m*\u001b[39m\u001b[38;5;28mself\u001b[39m\u001b[38;5;241m.\u001b[39mm \u001b[38;5;241m-\u001b[39m \u001b[38;5;28mself\u001b[39m\u001b[38;5;241m.\u001b[39mn \u001b[38;5;241m-\u001b[39m \u001b[38;5;28mself\u001b[39m\u001b[38;5;241m.\u001b[39mm \u001b[38;5;241m+\u001b[39m Integer(\u001b[38;5;241m1\u001b[39m):\n\u001b[1;32m     40\u001b[0m     attempts \u001b[38;5;241m=\u001b[39m Integer(\u001b[38;5;241m0\u001b[39m)\n\u001b[1;32m     41\u001b[0m     \u001b[38;5;28;01mwhile\u001b[39;00m \u001b[38;5;28mself\u001b[39m\u001b[38;5;241m.\u001b[39mestconnexe() \u001b[38;5;129;01mand\u001b[39;00m attempts \u001b[38;5;241m<\u001b[39m max_attempts:\n",
      "Cell \u001b[0;32mIn[154], line 76\u001b[0m, in \u001b[0;36mpseudoLabyrinthe.nmurs\u001b[0;34m(self)\u001b[0m\n\u001b[1;32m     75\u001b[0m \u001b[38;5;28;01mdef\u001b[39;00m \u001b[38;5;21mnmurs\u001b[39m(\u001b[38;5;28mself\u001b[39m):\n\u001b[0;32m---> 76\u001b[0m     \u001b[38;5;28;01mreturn\u001b[39;00m np\u001b[38;5;241m.\u001b[39msum(np\u001b[38;5;241m.\u001b[39marray(\u001b[38;5;28mself\u001b[39m\u001b[38;5;241m.\u001b[39mmurs_horizontaux), dtype\u001b[38;5;241m=\u001b[39m\u001b[38;5;28mint\u001b[39m) \u001b[38;5;241m+\u001b[39m \u001b[43mnp\u001b[49m\u001b[38;5;241;43m.\u001b[39;49m\u001b[43msum\u001b[49m\u001b[43m(\u001b[49m\u001b[43mnp\u001b[49m\u001b[38;5;241;43m.\u001b[39;49m\u001b[43marray\u001b[49m\u001b[43m(\u001b[49m\u001b[38;5;28;43mself\u001b[39;49m\u001b[38;5;241;43m.\u001b[39;49m\u001b[43mmurs_verticaux\u001b[49m\u001b[43m)\u001b[49m\u001b[43m,\u001b[49m\u001b[43m \u001b[49m\u001b[43mdtype\u001b[49m\u001b[38;5;241;43m=\u001b[39;49m\u001b[38;5;28;43mint\u001b[39;49m\u001b[43m)\u001b[49m\n",
      "File \u001b[0;32m/opt/conda/envs/sage/lib/python3.11/site-packages/numpy/core/fromnumeric.py:2313\u001b[0m, in \u001b[0;36msum\u001b[0;34m(a, axis, dtype, out, keepdims, initial, where)\u001b[0m\n\u001b[1;32m   2310\u001b[0m         \u001b[38;5;28;01mreturn\u001b[39;00m out\n\u001b[1;32m   2311\u001b[0m     \u001b[38;5;28;01mreturn\u001b[39;00m res\n\u001b[0;32m-> 2313\u001b[0m \u001b[38;5;28;01mreturn\u001b[39;00m \u001b[43m_wrapreduction\u001b[49m\u001b[43m(\u001b[49m\u001b[43ma\u001b[49m\u001b[43m,\u001b[49m\u001b[43m \u001b[49m\u001b[43mnp\u001b[49m\u001b[38;5;241;43m.\u001b[39;49m\u001b[43madd\u001b[49m\u001b[43m,\u001b[49m\u001b[43m \u001b[49m\u001b[38;5;124;43m'\u001b[39;49m\u001b[38;5;124;43msum\u001b[39;49m\u001b[38;5;124;43m'\u001b[39;49m\u001b[43m,\u001b[49m\u001b[43m \u001b[49m\u001b[43maxis\u001b[49m\u001b[43m,\u001b[49m\u001b[43m \u001b[49m\u001b[43mdtype\u001b[49m\u001b[43m,\u001b[49m\u001b[43m \u001b[49m\u001b[43mout\u001b[49m\u001b[43m,\u001b[49m\u001b[43m \u001b[49m\u001b[43mkeepdims\u001b[49m\u001b[38;5;241;43m=\u001b[39;49m\u001b[43mkeepdims\u001b[49m\u001b[43m,\u001b[49m\n\u001b[1;32m   2314\u001b[0m \u001b[43m                      \u001b[49m\u001b[43minitial\u001b[49m\u001b[38;5;241;43m=\u001b[39;49m\u001b[43minitial\u001b[49m\u001b[43m,\u001b[49m\u001b[43m \u001b[49m\u001b[43mwhere\u001b[49m\u001b[38;5;241;43m=\u001b[39;49m\u001b[43mwhere\u001b[49m\u001b[43m)\u001b[49m\n",
      "File \u001b[0;32m/opt/conda/envs/sage/lib/python3.11/site-packages/numpy/core/fromnumeric.py:88\u001b[0m, in \u001b[0;36m_wrapreduction\u001b[0;34m(obj, ufunc, method, axis, dtype, out, **kwargs)\u001b[0m\n\u001b[1;32m     85\u001b[0m         \u001b[38;5;28;01melse\u001b[39;00m:\n\u001b[1;32m     86\u001b[0m             \u001b[38;5;28;01mreturn\u001b[39;00m reduction(axis\u001b[38;5;241m=\u001b[39maxis, out\u001b[38;5;241m=\u001b[39mout, \u001b[38;5;241m*\u001b[39m\u001b[38;5;241m*\u001b[39mpasskwargs)\n\u001b[0;32m---> 88\u001b[0m \u001b[38;5;28;01mreturn\u001b[39;00m \u001b[43mufunc\u001b[49m\u001b[38;5;241;43m.\u001b[39;49m\u001b[43mreduce\u001b[49m\u001b[43m(\u001b[49m\u001b[43mobj\u001b[49m\u001b[43m,\u001b[49m\u001b[43m \u001b[49m\u001b[43maxis\u001b[49m\u001b[43m,\u001b[49m\u001b[43m \u001b[49m\u001b[43mdtype\u001b[49m\u001b[43m,\u001b[49m\u001b[43m \u001b[49m\u001b[43mout\u001b[49m\u001b[43m,\u001b[49m\u001b[43m \u001b[49m\u001b[38;5;241;43m*\u001b[39;49m\u001b[38;5;241;43m*\u001b[39;49m\u001b[43mpasskwargs\u001b[49m\u001b[43m)\u001b[49m\n",
      "File \u001b[0;32msrc/cysignals/signals.pyx:310\u001b[0m, in \u001b[0;36mcysignals.signals.python_check_interrupt\u001b[0;34m()\u001b[0m\n",
      "\u001b[0;31mKeyboardInterrupt\u001b[0m: "
     ]
    }
   ],
   "source": [
    "for i in range(100):\n",
    "    lab32.genereraleatoireter()"
   ]
  },
  {
   "cell_type": "code",
   "execution_count": 150,
   "id": "540a5b76-762b-4ed1-8012-fe6c9cf1e774",
   "metadata": {
    "tags": []
   },
   "outputs": [
    {
     "ename": "KeyboardInterrupt",
     "evalue": "",
     "output_type": "error",
     "traceback": [
      "\u001b[0;31m---------------------------------------------------------------------------\u001b[0m",
      "\u001b[0;31mKeyboardInterrupt\u001b[0m                         Traceback (most recent call last)",
      "Cell \u001b[0;32mIn[150], line 3\u001b[0m\n\u001b[1;32m      1\u001b[0m dictionnaire \u001b[38;5;241m=\u001b[39m {}\n\u001b[1;32m      2\u001b[0m \u001b[38;5;28;01mfor\u001b[39;00m i \u001b[38;5;129;01min\u001b[39;00m \u001b[38;5;28mrange\u001b[39m(Integer(\u001b[38;5;241m100\u001b[39m)):\n\u001b[0;32m----> 3\u001b[0m     \u001b[43mlab32\u001b[49m\u001b[38;5;241;43m.\u001b[39;49m\u001b[43mgenereraleatoireter\u001b[49m\u001b[43m(\u001b[49m\u001b[43m)\u001b[49m\n\u001b[1;32m      4\u001b[0m     \u001b[38;5;28;01mif\u001b[39;00m signature(lab32) \u001b[38;5;129;01mnot\u001b[39;00m \u001b[38;5;129;01min\u001b[39;00m dictionnaire:\n\u001b[1;32m      5\u001b[0m         dictionnaire[signature(lab32)] \u001b[38;5;241m=\u001b[39m Integer(\u001b[38;5;241m1\u001b[39m)\n",
      "Cell \u001b[0;32mIn[131], line 39\u001b[0m, in \u001b[0;36mlabyrinthe.genereraleatoireter\u001b[0;34m(self)\u001b[0m\n\u001b[1;32m     36\u001b[0m logmurs \u001b[38;5;241m=\u001b[39m []\n\u001b[1;32m     37\u001b[0m max_attempts \u001b[38;5;241m=\u001b[39m Integer(\u001b[38;5;241m100\u001b[39m)  \u001b[38;5;66;03m# Set a maximum number of attempts\u001b[39;00m\n\u001b[0;32m---> 39\u001b[0m \u001b[38;5;28;01mwhile\u001b[39;00m \u001b[38;5;28mself\u001b[39m\u001b[38;5;241m.\u001b[39mnmurs() \u001b[38;5;241m!=\u001b[39m \u001b[38;5;28mself\u001b[39m\u001b[38;5;241m.\u001b[39mn\u001b[38;5;241m*\u001b[39m\u001b[38;5;28mself\u001b[39m\u001b[38;5;241m.\u001b[39mm \u001b[38;5;241m-\u001b[39m \u001b[38;5;28mself\u001b[39m\u001b[38;5;241m.\u001b[39mn \u001b[38;5;241m-\u001b[39m \u001b[38;5;28mself\u001b[39m\u001b[38;5;241m.\u001b[39mm \u001b[38;5;241m+\u001b[39m Integer(\u001b[38;5;241m1\u001b[39m):\n\u001b[1;32m     40\u001b[0m     attempts \u001b[38;5;241m=\u001b[39m Integer(\u001b[38;5;241m0\u001b[39m)\n\u001b[1;32m     41\u001b[0m     \u001b[38;5;28;01mwhile\u001b[39;00m \u001b[38;5;28mself\u001b[39m\u001b[38;5;241m.\u001b[39mestconnexe() \u001b[38;5;129;01mand\u001b[39;00m attempts \u001b[38;5;241m<\u001b[39m max_attempts:\n",
      "File \u001b[0;32msrc/cysignals/signals.pyx:310\u001b[0m, in \u001b[0;36mcysignals.signals.python_check_interrupt\u001b[0;34m()\u001b[0m\n",
      "\u001b[0;31mKeyboardInterrupt\u001b[0m: "
     ]
    }
   ],
   "source": [
    "dictionnaire = {}\n",
    "for i in range(100):\n",
    "    lab32.genereraleatoireter()\n",
    "    if signature(lab32) not in dictionnaire:\n",
    "        dictionnaire[signature(lab32)] = 1\n",
    "    else:\n",
    "        dictionnaire[signature(lab32)] += 1"
   ]
  },
  {
   "cell_type": "markdown",
   "id": "f8c683d7-f979-42b4-939d-f231dccc90c7",
   "metadata": {},
   "source": [
    "générer les labyrinthes aléatoirement il faut générer des petits labyrinthes aléatoirement puis ajouter des cases à ce labyrinthe et on rajoute dans les nouvelles lignes tout ce qui fait que c'est un labyrinthe !"
   ]
  }
 ],
 "metadata": {
  "kernelspec": {
   "display_name": "SageMath 10.2",
   "language": "sage",
   "name": "sagemath"
  },
  "language_info": {
   "codemirror_mode": {
    "name": "ipython",
    "version": 3
   },
   "file_extension": ".py",
   "mimetype": "text/x-python",
   "name": "python",
   "nbconvert_exporter": "python",
   "pygments_lexer": "ipython3",
   "version": "3.11.8"
  }
 },
 "nbformat": 4,
 "nbformat_minor": 5
}
